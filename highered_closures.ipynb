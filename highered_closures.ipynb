{
 "metadata": {
  "language_info": {
   "codemirror_mode": {
    "name": "ipython",
    "version": 3
   },
   "file_extension": ".py",
   "mimetype": "text/x-python",
   "name": "python",
   "nbconvert_exporter": "python",
   "pygments_lexer": "ipython3",
   "version": 3
  },
  "orig_nbformat": 2,
  "kernelspec": {
   "name": "python_defaultSpec_1595189673703",
   "display_name": "Python 3.8.4 64-bit"
  }
 },
 "nbformat": 4,
 "nbformat_minor": 2,
 "cells": [
  {
   "cell_type": "code",
   "execution_count": 32,
   "metadata": {},
   "outputs": [],
   "source": [
    "import pandas as pd\n",
    "import plotly.express as px"
   ]
  },
  {
   "cell_type": "code",
   "execution_count": 3,
   "metadata": {},
   "outputs": [],
   "source": [
    "galloway = pd.read_csv(\"data/US Higher Education Value vs. Vulnerability - dataset.csv\", skiprows=5)"
   ]
  },
  {
   "cell_type": "code",
   "execution_count": 6,
   "metadata": {},
   "outputs": [
    {
     "output_type": "execute_result",
     "data": {
      "text/plain": "      Institution Name Full Time Enrollment State  \\\n0   Adelphi University                6,562    NY   \n1  Agnes Scott College                  998    GA   \n2       Albion College                1,509    MI   \n3    Allegheny College                1,724    PA   \n4  American University               11,435    DC   \n\n                      Ranking List  Rank  Rank Pct Rank  \\\n0  USN National University Ranking   166           0.28   \n1     USN National College Ranking    58           0.74   \n2     USN National College Ranking   140           0.38   \n3     USN National College Ranking    82           0.64   \n4  USN National University Ranking    77           0.66   \n\n  Undergraduate Admit Rate  Undergraduate Admit Rate Pct Rank  \\\n0                      74%                               0.29   \n1                      70%                               0.38   \n2                      68%                               0.43   \n3                      64%                               0.51   \n4                      32%                               0.84   \n\n  Average Monthly Search Volume  Average Monthly Search Volume Pct Rank  ...  \\\n0                        60,500                                    0.74  ...   \n1                        14,800                                    0.27  ...   \n2                        18,100                                    0.33  ...   \n3                        22,200                                    0.40  ...   \n4                       110,000                                    0.89  ...   \n\n   Average Undergraduate Tuition Average Undergraduate Tuition Score  \\\n0                        $38,740                                0.51   \n1                        $41,160                                0.57   \n2                        $45,590                                0.68   \n3                        $47,540                                0.72   \n4                        $48,459                                0.74   \n\n   Value\\n(C x E x E)  Value-to-Cost Ratio Endowment per Full Time Student  \\\n0                6.05                 0.44                         $28,738   \n1                3.10                 0.20                        $229,886   \n2                2.45                 0.13                        $115,513   \n3                5.68                 0.29                        $128,095   \n4                9.13                 0.46                         $59,154   \n\n   Endowment per Full Time Student Pct Rank  \\\n0                                      0.69   \n1                                      0.16   \n2                                      0.32   \n3                                      0.29   \n4                                      0.51   \n\n  Percentage of International Students  \\\n0                                   3%   \n1                                   4%   \n2                                   1%   \n3                                   4%   \n4                                   3%   \n\n   Percentage of International Students PCT Rank Vulnerability Score  \\\n0                                           0.44                1.14   \n1                                           0.54                0.70   \n2                                           0.14                0.45   \n3                                           0.54                0.83   \n4                                           0.44                0.95   \n\n   Prof G Categorization  \n0                Survive  \n1               Struggle  \n2               Struggle  \n3               Struggle  \n4                Survive  \n\n[5 rows x 31 columns]",
      "text/html": "<div>\n<style scoped>\n    .dataframe tbody tr th:only-of-type {\n        vertical-align: middle;\n    }\n\n    .dataframe tbody tr th {\n        vertical-align: top;\n    }\n\n    .dataframe thead th {\n        text-align: right;\n    }\n</style>\n<table border=\"1\" class=\"dataframe\">\n  <thead>\n    <tr style=\"text-align: right;\">\n      <th></th>\n      <th>Institution Name</th>\n      <th>Full Time Enrollment</th>\n      <th>State</th>\n      <th>Ranking List</th>\n      <th>Rank</th>\n      <th>Rank Pct Rank</th>\n      <th>Undergraduate Admit Rate</th>\n      <th>Undergraduate Admit Rate Pct Rank</th>\n      <th>Average Monthly Search Volume</th>\n      <th>Average Monthly Search Volume Pct Rank</th>\n      <th>...</th>\n      <th>Average Undergraduate Tuition</th>\n      <th>Average Undergraduate Tuition Score</th>\n      <th>Value\\n(C x E x E)</th>\n      <th>Value-to-Cost Ratio</th>\n      <th>Endowment per Full Time Student</th>\n      <th>Endowment per Full Time Student Pct Rank</th>\n      <th>Percentage of International Students</th>\n      <th>Percentage of International Students PCT Rank</th>\n      <th>Vulnerability Score</th>\n      <th>Prof G Categorization</th>\n    </tr>\n  </thead>\n  <tbody>\n    <tr>\n      <th>0</th>\n      <td>Adelphi University</td>\n      <td>6,562</td>\n      <td>NY</td>\n      <td>USN National University Ranking</td>\n      <td>166</td>\n      <td>0.28</td>\n      <td>74%</td>\n      <td>0.29</td>\n      <td>60,500</td>\n      <td>0.74</td>\n      <td>...</td>\n      <td>$38,740</td>\n      <td>0.51</td>\n      <td>6.05</td>\n      <td>0.44</td>\n      <td>$28,738</td>\n      <td>0.69</td>\n      <td>3%</td>\n      <td>0.44</td>\n      <td>1.14</td>\n      <td>Survive</td>\n    </tr>\n    <tr>\n      <th>1</th>\n      <td>Agnes Scott College</td>\n      <td>998</td>\n      <td>GA</td>\n      <td>USN National College Ranking</td>\n      <td>58</td>\n      <td>0.74</td>\n      <td>70%</td>\n      <td>0.38</td>\n      <td>14,800</td>\n      <td>0.27</td>\n      <td>...</td>\n      <td>$41,160</td>\n      <td>0.57</td>\n      <td>3.10</td>\n      <td>0.20</td>\n      <td>$229,886</td>\n      <td>0.16</td>\n      <td>4%</td>\n      <td>0.54</td>\n      <td>0.70</td>\n      <td>Struggle</td>\n    </tr>\n    <tr>\n      <th>2</th>\n      <td>Albion College</td>\n      <td>1,509</td>\n      <td>MI</td>\n      <td>USN National College Ranking</td>\n      <td>140</td>\n      <td>0.38</td>\n      <td>68%</td>\n      <td>0.43</td>\n      <td>18,100</td>\n      <td>0.33</td>\n      <td>...</td>\n      <td>$45,590</td>\n      <td>0.68</td>\n      <td>2.45</td>\n      <td>0.13</td>\n      <td>$115,513</td>\n      <td>0.32</td>\n      <td>1%</td>\n      <td>0.14</td>\n      <td>0.45</td>\n      <td>Struggle</td>\n    </tr>\n    <tr>\n      <th>3</th>\n      <td>Allegheny College</td>\n      <td>1,724</td>\n      <td>PA</td>\n      <td>USN National College Ranking</td>\n      <td>82</td>\n      <td>0.64</td>\n      <td>64%</td>\n      <td>0.51</td>\n      <td>22,200</td>\n      <td>0.40</td>\n      <td>...</td>\n      <td>$47,540</td>\n      <td>0.72</td>\n      <td>5.68</td>\n      <td>0.29</td>\n      <td>$128,095</td>\n      <td>0.29</td>\n      <td>4%</td>\n      <td>0.54</td>\n      <td>0.83</td>\n      <td>Struggle</td>\n    </tr>\n    <tr>\n      <th>4</th>\n      <td>American University</td>\n      <td>11,435</td>\n      <td>DC</td>\n      <td>USN National University Ranking</td>\n      <td>77</td>\n      <td>0.66</td>\n      <td>32%</td>\n      <td>0.84</td>\n      <td>110,000</td>\n      <td>0.89</td>\n      <td>...</td>\n      <td>$48,459</td>\n      <td>0.74</td>\n      <td>9.13</td>\n      <td>0.46</td>\n      <td>$59,154</td>\n      <td>0.51</td>\n      <td>3%</td>\n      <td>0.44</td>\n      <td>0.95</td>\n      <td>Survive</td>\n    </tr>\n  </tbody>\n</table>\n<p>5 rows × 31 columns</p>\n</div>"
     },
     "metadata": {},
     "execution_count": 6
    }
   ],
   "source": [
    "galloway.head()"
   ]
  },
  {
   "cell_type": "code",
   "execution_count": 35,
   "metadata": {},
   "outputs": [
    {
     "output_type": "display_data",
     "data": {
      "application/vnd.plotly.v1+json": {
       "config": {
        "plotlyServerURL": "https://plot.ly"
       },
       "data": [
        {
         "customdata": [
          [
           "Adelphi University"
          ],
          [
           "Agnes Scott College"
          ],
          [
           "Albion College"
          ],
          [
           "Allegheny College"
          ],
          [
           "American University"
          ],
          [
           "Amherst College"
          ],
          [
           "Arizona State University-Tempe"
          ],
          [
           "Auburn University"
          ],
          [
           "Augustana College"
          ],
          [
           "Austin College"
          ],
          [
           "Azusa Pacific University"
          ],
          [
           "Baker University"
          ],
          [
           "Ball State University"
          ],
          [
           "Bard College"
          ],
          [
           "Barnard College"
          ],
          [
           "Bates College"
          ],
          [
           "Baylor University"
          ],
          [
           "Bellarmine University"
          ],
          [
           "Belmont University"
          ],
          [
           "Beloit College"
          ],
          [
           "Bennington College"
          ],
          [
           "Berea College"
          ],
          [
           "Bethel University"
          ],
          [
           "Binghamton University"
          ],
          [
           "Biola University"
          ],
          [
           "Birmingham Southern College"
          ],
          [
           "Boston College"
          ],
          [
           "Boston University"
          ],
          [
           "Bowdoin College"
          ],
          [
           "Bowling Green State University-Main Campus"
          ],
          [
           "Brandeis University"
          ],
          [
           "Brigham Young University-Provo"
          ],
          [
           "Brown University"
          ],
          [
           "Bryn Mawr College"
          ],
          [
           "Bucknell University"
          ],
          [
           "California Institute of Technology"
          ],
          [
           "California State University-Fresno"
          ],
          [
           "Campbell University"
          ],
          [
           "Carleton College"
          ],
          [
           "Carnegie Mellon University"
          ],
          [
           "Case Western Reserve University"
          ],
          [
           "Catholic University of America"
          ],
          [
           "Centenary College of Louisiana"
          ],
          [
           "Central College"
          ],
          [
           "Central Michigan University"
          ],
          [
           "Centre College"
          ],
          [
           "Chapman University"
          ],
          [
           "Chatham University"
          ],
          [
           "Claremont McKenna College"
          ],
          [
           "Clark University"
          ],
          [
           "Clarke University"
          ],
          [
           "Clarkson University"
          ],
          [
           "Clemson University"
          ],
          [
           "Coe College"
          ],
          [
           "Colby College"
          ],
          [
           "Colgate University"
          ],
          [
           "College of Saint Benedict"
          ],
          [
           "College of the Atlantic"
          ],
          [
           "College of the Holy Cross"
          ],
          [
           "College of William and Mary"
          ],
          [
           "Colorado College"
          ],
          [
           "Colorado School of Mines"
          ],
          [
           "Colorado State University-Fort Collins"
          ],
          [
           "Columbia University in the City of New York"
          ],
          [
           "Concordia College at Moorhead"
          ],
          [
           "Concordia University-Wisconsin"
          ],
          [
           "Connecticut College"
          ],
          [
           "Cornell College"
          ],
          [
           "Cornell University"
          ],
          [
           "Covenant College"
          ],
          [
           "Creighton University"
          ],
          [
           "CUNY City College"
          ],
          [
           "Daemen College"
          ],
          [
           "Dallas Baptist University"
          ],
          [
           "Dartmouth College"
          ],
          [
           "Davidson College"
          ],
          [
           "Denison University"
          ],
          [
           "DePaul University"
          ],
          [
           "DePauw University"
          ],
          [
           "Dickinson College"
          ],
          [
           "Drake University"
          ],
          [
           "Drew University"
          ],
          [
           "Drexel University"
          ],
          [
           "Duke University"
          ],
          [
           "Duquesne University"
          ],
          [
           "Earlham College"
          ],
          [
           "East Carolina University"
          ],
          [
           "Eckerd College"
          ],
          [
           "Edgewood College"
          ],
          [
           "Elizabethtown College"
          ],
          [
           "Elon University"
          ],
          [
           "Emory & Henry College"
          ],
          [
           "Emory University"
          ],
          [
           "Florida Atlantic University"
          ],
          [
           "Florida Institute of Technology"
          ],
          [
           "Florida International University"
          ],
          [
           "Florida State University"
          ],
          [
           "Fordham University"
          ],
          [
           "Franklin and Marshall College"
          ],
          [
           "Franklin College"
          ],
          [
           "Furman University"
          ],
          [
           "Gallaudet University"
          ],
          [
           "Gannon University"
          ],
          [
           "Gardner-Webb University"
          ],
          [
           "George Fox University"
          ],
          [
           "George Mason University"
          ],
          [
           "George Washington University"
          ],
          [
           "Georgetown College"
          ],
          [
           "Georgetown University"
          ],
          [
           "Georgia Institute of Technology-Main Campus"
          ],
          [
           "Georgia State University"
          ],
          [
           "Gettysburg College"
          ],
          [
           "Gonzaga University"
          ],
          [
           "Goucher College"
          ],
          [
           "Grand Valley State University"
          ],
          [
           "Grinnell College"
          ],
          [
           "Guilford College"
          ],
          [
           "Gustavus Adolphus College"
          ],
          [
           "Hamilton College"
          ],
          [
           "Hampden-Sydney College"
          ],
          [
           "Hampton University"
          ],
          [
           "Hanover College"
          ],
          [
           "Harding University"
          ],
          [
           "Hartwick College"
          ],
          [
           "Harvard University"
          ],
          [
           "Harvey Mudd College"
          ],
          [
           "Haverford College"
          ],
          [
           "Hendrix College"
          ],
          [
           "Hobart William Smith Colleges"
          ],
          [
           "Hofstra University"
          ],
          [
           "Hollins University"
          ],
          [
           "Hope College"
          ],
          [
           "Houghton College"
          ],
          [
           "Howard University"
          ],
          [
           "Illinois College"
          ],
          [
           "Illinois Institute of Technology"
          ],
          [
           "Illinois State University"
          ],
          [
           "Illinois Wesleyan University"
          ],
          [
           "Immaculata University"
          ],
          [
           "Indiana University-Bloomington"
          ],
          [
           "Indiana University-Purdue University-Indianapolis"
          ],
          [
           "Iowa State University"
          ],
          [
           "Johns Hopkins University"
          ],
          [
           "Juniata College"
          ],
          [
           "Kalamazoo College"
          ],
          [
           "Kansas State University"
          ],
          [
           "Kent State University at Kent"
          ],
          [
           "Kenyon College"
          ],
          [
           "Knox College"
          ],
          [
           "Lafayette College"
          ],
          [
           "Lake Forest College"
          ],
          [
           "Lawrence University"
          ],
          [
           "Lehigh University"
          ],
          [
           "Lesley University"
          ],
          [
           "Lewis & Clark College"
          ],
          [
           "Lincoln Memorial University"
          ],
          [
           "Linfield College-McMinnville Campus"
          ],
          [
           "Lipscomb University"
          ],
          [
           "Long Island University"
          ],
          [
           "Louisiana Tech University"
          ],
          [
           "Loyola Marymount University"
          ],
          [
           "Loyola University Chicago"
          ],
          [
           "Loyola University New Orleans"
          ],
          [
           "Luther College"
          ],
          [
           "Lycoming College"
          ],
          [
           "Macalester College"
          ],
          [
           "Marlboro College"
          ],
          [
           "Marquette University"
          ],
          [
           "Mary Baldwin University"
          ],
          [
           "Maryville University of Saint Louis"
          ],
          [
           "Massachusetts College of Liberal Arts"
          ],
          [
           "Massachusetts Institute of Technology"
          ],
          [
           "Mercer University"
          ],
          [
           "Meredith College"
          ],
          [
           "Miami University-Oxford"
          ],
          [
           "Michigan State University"
          ],
          [
           "Michigan Technological University"
          ],
          [
           "Middlebury College"
          ],
          [
           "Millsaps College"
          ],
          [
           "Misericordia University"
          ],
          [
           "Mississippi State University"
          ],
          [
           "Missouri University of Science and Technology"
          ],
          [
           "Monmouth College"
          ],
          [
           "Montana State University"
          ],
          [
           "Montclair State University"
          ],
          [
           "Moravian College"
          ],
          [
           "Morehouse College"
          ],
          [
           "Mount Holyoke College"
          ],
          [
           "Muhlenberg College"
          ],
          [
           "New Jersey Institute of Technology"
          ],
          [
           "New Mexico State University-Main Campus"
          ],
          [
           "New York University"
          ],
          [
           "North Carolina A & T State University"
          ],
          [
           "North Carolina State University at Raleigh"
          ],
          [
           "North Dakota State University-Main Campus"
          ],
          [
           "Northeastern University"
          ],
          [
           "Northwestern University"
          ],
          [
           "Nova Southeastern University"
          ],
          [
           "Oberlin College"
          ],
          [
           "Occidental College"
          ],
          [
           "Ohio State University-Main Campus"
          ],
          [
           "Ohio University-Main Campus"
          ],
          [
           "Ohio Wesleyan University"
          ],
          [
           "Oklahoma City University"
          ],
          [
           "Oklahoma State University-Main Campus"
          ],
          [
           "Old Dominion University"
          ],
          [
           "Oregon State University"
          ],
          [
           "Pace University"
          ],
          [
           "Pacific University"
          ],
          [
           "Pennsylvania State University-Main Campus"
          ],
          [
           "Pepperdine University"
          ],
          [
           "Pitzer College"
          ],
          [
           "Pomona College"
          ],
          [
           "Presbyterian College"
          ],
          [
           "Princeton University"
          ],
          [
           "Purdue University-Main Campus"
          ],
          [
           "Quinnipiac University"
          ],
          [
           "Randolph College"
          ],
          [
           "Randolph-Macon College"
          ],
          [
           "Reed College"
          ],
          [
           "Regent University"
          ],
          [
           "Regis University"
          ],
          [
           "Rensselaer Polytechnic Institute"
          ],
          [
           "Rhodes College"
          ],
          [
           "Rice University"
          ],
          [
           "Ripon College"
          ],
          [
           "Roanoke College"
          ],
          [
           "Robert Morris University"
          ],
          [
           "Rochester Institute of Technology"
          ],
          [
           "Rowan University"
          ],
          [
           "Rutgers University-Camden"
          ],
          [
           "Rutgers University-New Brunswick"
          ],
          [
           "Rutgers University-Newark"
          ],
          [
           "Sacred Heart University"
          ],
          [
           "Saint Anselm College"
          ],
          [
           "Saint John Fisher College"
          ],
          [
           "Saint Johns University"
          ],
          [
           "Saint Louis University"
          ],
          [
           "Saint Mary's College"
          ],
          [
           "Saint Michael's College"
          ],
          [
           "Saint Norbert College"
          ],
          [
           "Saint Vincent College"
          ],
          [
           "Salem College"
          ],
          [
           "Sam Houston State University"
          ],
          [
           "Samford University"
          ],
          [
           "San Diego State University"
          ],
          [
           "Santa Clara University"
          ],
          [
           "Sarah Lawrence College"
          ],
          [
           "Scripps College"
          ],
          [
           "Seattle Pacific University"
          ],
          [
           "Seattle University"
          ],
          [
           "Seton Hall University"
          ],
          [
           "Shenandoah University"
          ],
          [
           "Simmons University"
          ],
          [
           "Simpson College"
          ],
          [
           "Skidmore College"
          ],
          [
           "Smith College"
          ],
          [
           "South Dakota State University"
          ],
          [
           "Southern Illinois University-Carbondale"
          ],
          [
           "Southern Methodist University"
          ],
          [
           "Southwestern University"
          ],
          [
           "Spelman College"
          ],
          [
           "St Catherine University"
          ],
          [
           "St John's University-New York"
          ],
          [
           "St Lawrence University"
          ],
          [
           "St Olaf College"
          ],
          [
           "St. John's College - MD"
          ],
          [
           "St. John's College - NM"
          ],
          [
           "St. Mary's College of Maryland"
          ],
          [
           "St. Thomas Aquinas College"
          ],
          [
           "Stanford University"
          ],
          [
           "Stevens Institute of Technology"
          ],
          [
           "Stonehill College"
          ],
          [
           "Stony Brook University"
          ],
          [
           "SUNY at Albany"
          ],
          [
           "SUNY Buffalo State"
          ],
          [
           "SUNY College of Environmental Science and Forestry"
          ],
          [
           "Susquehanna University"
          ],
          [
           "Swarthmore College"
          ],
          [
           "Sweet Briar College"
          ],
          [
           "Syracuse University"
          ],
          [
           "Temple University"
          ],
          [
           "Tennessee Technological University"
          ],
          [
           "Texas A & M University-College Station"
          ],
          [
           "Texas Christian University"
          ],
          [
           "Texas Tech University"
          ],
          [
           "The College of Idaho"
          ],
          [
           "The College of Saint Scholastica"
          ],
          [
           "The College of Wooster"
          ],
          [
           "The New School"
          ],
          [
           "The Sage Colleges"
          ],
          [
           "The University of Alabama"
          ],
          [
           "The University of Findlay"
          ],
          [
           "The University of Montana"
          ],
          [
           "The University of Texas at Austin"
          ],
          [
           "The University of Texas at Dallas"
          ],
          [
           "Thomas Jefferson University"
          ],
          [
           "Towson University"
          ],
          [
           "Transylvania University"
          ],
          [
           "Trinity College"
          ],
          [
           "Tufts University"
          ],
          [
           "Tulane University of Louisiana"
          ],
          [
           "Union College"
          ],
          [
           "Union University"
          ],
          [
           "University of Alabama at Birmingham"
          ],
          [
           "University of Alabama in Huntsville"
          ],
          [
           "University of Alaska Fairbanks"
          ],
          [
           "University of Arizona"
          ],
          [
           "University of Arkansas"
          ],
          [
           "University of California-Berkeley"
          ],
          [
           "University of California-Davis"
          ],
          [
           "University of California-Irvine"
          ],
          [
           "University of California-Los Angeles"
          ],
          [
           "University of California-Riverside"
          ],
          [
           "University of California-San Diego"
          ],
          [
           "University of California-Santa Barbara"
          ],
          [
           "University of California-Santa Cruz"
          ],
          [
           "University of Central Florida"
          ],
          [
           "University of Chicago"
          ],
          [
           "University of Cincinnati-Main Campus"
          ],
          [
           "University of Colorado Denver/Anschutz Medical Campus"
          ],
          [
           "University of Connecticut"
          ],
          [
           "University of Dayton"
          ],
          [
           "University of Delaware"
          ],
          [
           "University of Denver"
          ],
          [
           "University of Detroit Mercy"
          ],
          [
           "University of Florida"
          ],
          [
           "University of Georgia"
          ],
          [
           "University of Hartford"
          ],
          [
           "University of Hawaii at Manoa"
          ],
          [
           "University of Houston"
          ],
          [
           "University of Idaho"
          ],
          [
           "University of Illinois at Chicago"
          ],
          [
           "University of Illinois at Urbana-Champaign"
          ],
          [
           "University of Indianapolis"
          ],
          [
           "University of Iowa"
          ],
          [
           "University of Kansas"
          ],
          [
           "University of Kentucky"
          ],
          [
           "University of La Verne"
          ],
          [
           "University of Louisville"
          ],
          [
           "University of Maine"
          ],
          [
           "University of Maryland-College Park"
          ],
          [
           "University of Massachusetts-Amherst"
          ],
          [
           "University of Massachusetts-Boston"
          ],
          [
           "University of Massachusetts-Dartmouth"
          ],
          [
           "University of Massachusetts-Lowell"
          ],
          [
           "University of Memphis"
          ],
          [
           "University of Miami"
          ],
          [
           "University of Michigan-Ann Arbor"
          ],
          [
           "University of Minnesota-Morris"
          ],
          [
           "University of Minnesota-Twin Cities"
          ],
          [
           "University of Mississippi"
          ],
          [
           "University of Missouri-Columbia"
          ],
          [
           "University of Missouri-Kansas City"
          ],
          [
           "University of Missouri-St Louis"
          ],
          [
           "University of Nebraska-Lincoln"
          ],
          [
           "University of Nevada-Reno"
          ],
          [
           "University of New England"
          ],
          [
           "University of New Hampshire-Main Campus"
          ],
          [
           "University of New Mexico-Main Campus"
          ],
          [
           "University of North Carolina at Asheville"
          ],
          [
           "University of North Carolina at Chapel Hill"
          ],
          [
           "University of North Carolina at Charlotte"
          ],
          [
           "University of North Carolina at Greensboro"
          ],
          [
           "University of North Carolina Wilmington"
          ],
          [
           "University of North Dakota"
          ],
          [
           "University of North Florida"
          ],
          [
           "University of North Texas"
          ],
          [
           "University of Notre Dame"
          ],
          [
           "University of Oklahoma-Norman Campus"
          ],
          [
           "University of Oregon"
          ],
          [
           "University of Pennsylvania"
          ],
          [
           "University of Pittsburgh-Pittsburgh Campus"
          ],
          [
           "University of Puget Sound"
          ],
          [
           "University of Rhode Island"
          ],
          [
           "University of Richmond"
          ],
          [
           "University of Rochester"
          ],
          [
           "University of Saint Joseph"
          ],
          [
           "University of San Diego"
          ],
          [
           "University of San Francisco"
          ],
          [
           "University of South Carolina-Columbia"
          ],
          [
           "University of South Dakota"
          ],
          [
           "University of South Florida-Main Campus"
          ],
          [
           "University of Southern California"
          ],
          [
           "University of St Francis"
          ],
          [
           "University of St Thomas"
          ],
          [
           "University of the Incarnate Word"
          ],
          [
           "University of the Pacific"
          ],
          [
           "University of Tulsa"
          ],
          [
           "University of Utah"
          ],
          [
           "University of Vermont"
          ],
          [
           "University of Virginia-Main Campus"
          ],
          [
           "University of Washington-Seattle Campus"
          ],
          [
           "University of Wisconsin-Madison"
          ],
          [
           "University of Wyoming"
          ],
          [
           "Ursinus College"
          ],
          [
           "Utah State University"
          ],
          [
           "Valparaiso University"
          ],
          [
           "Vanderbilt University"
          ],
          [
           "Vassar College"
          ],
          [
           "Villanova University"
          ],
          [
           "Virginia Commonwealth University"
          ],
          [
           "Virginia Military Institute"
          ],
          [
           "Wabash College"
          ],
          [
           "Wake Forest University"
          ],
          [
           "Warren Wilson College"
          ],
          [
           "Wartburg College"
          ],
          [
           "Washington & Jefferson College"
          ],
          [
           "Washington and Lee University"
          ],
          [
           "Washington College"
          ],
          [
           "Washington State University"
          ],
          [
           "Washington University in St Louis"
          ],
          [
           "Wayne State University"
          ],
          [
           "Wellesley College"
          ],
          [
           "Wells College"
          ],
          [
           "Wesleyan College"
          ],
          [
           "Wesleyan University"
          ],
          [
           "West Virginia University"
          ],
          [
           "Western Michigan University"
          ],
          [
           "Western New England University"
          ],
          [
           "Westminster College"
          ],
          [
           "Westminster College"
          ],
          [
           "Westmont College"
          ],
          [
           "Wheaton College"
          ],
          [
           "Whitman College"
          ],
          [
           "Whittier College"
          ],
          [
           "Widener University"
          ],
          [
           "Wilkes University"
          ],
          [
           "Willamette University"
          ],
          [
           "William Carey University"
          ],
          [
           "Williams College"
          ],
          [
           "Wittenberg University"
          ],
          [
           "Wofford College"
          ],
          [
           "Worcester Polytechnic Institute"
          ],
          [
           "Yale University"
          ],
          [
           "Yeshiva University"
          ]
         ],
         "hovertemplate": "Value-to-Cost Ratio=%{x}<br>Vulnerability Score=%{y}<br>Institution Name=%{customdata[0]}<extra></extra>",
         "legendgroup": "",
         "marker": {
          "color": "#636efa",
          "opacity": 0.5,
          "symbol": "circle"
         },
         "mode": "markers",
         "name": "",
         "orientation": "v",
         "showlegend": false,
         "type": "scatter",
         "x": [
          0.44,
          0.2,
          0.13,
          0.29,
          0.46,
          0.81,
          0.75,
          0.93,
          0.31,
          0.21,
          0.29,
          0.14,
          0.69,
          0.13,
          0.72,
          0.63,
          0.39,
          0.12,
          0.09,
          0.13,
          0.1,
          0.24,
          0.19,
          2.48,
          0.1,
          0.55,
          0.82,
          0.84,
          0.87,
          0.22,
          0.39,
          29.97,
          0.88,
          0.58,
          0.58,
          0.77,
          4.72,
          0.16,
          0.54,
          0.68,
          0.79,
          0.23,
          0.1,
          0.11,
          0.49,
          0.2,
          0.31,
          0.08,
          0.65,
          0.27,
          0.03,
          0.33,
          1.34,
          0.13,
          0.62,
          0.69,
          0.17,
          0.09,
          0.59,
          0.66,
          0.28,
          1.14,
          0.31,
          0.97,
          0.12,
          0.1,
          0.33,
          0.11,
          0.95,
          0.03,
          0.45,
          17.55,
          0.16,
          0.06,
          0.8,
          0.79,
          0.35,
          0.45,
          0.41,
          0.27,
          0.43,
          0.24,
          0.42,
          0.97,
          0.46,
          0.09,
          1.13,
          0.08,
          0.11,
          0.17,
          0.38,
          0.05,
          0.99,
          14.95,
          0.28,
          7.45,
          19.8,
          0.43,
          0.31,
          0.09,
          0.41,
          0.93,
          0.17,
          0.12,
          0.09,
          1,
          0.68,
          0.09,
          1,
          2.05,
          0.95,
          0.41,
          0.46,
          0.12,
          0.73,
          0.47,
          0.02,
          0.29,
          0.68,
          0.21,
          0.13,
          0.13,
          0.13,
          0.06,
          1.26,
          0.51,
          0.66,
          0.12,
          0.15,
          0.31,
          0.15,
          0.2,
          0.02,
          1.25,
          0.12,
          0.29,
          0.87,
          0.38,
          0.14,
          0.96,
          0.26,
          2.02,
          0.89,
          0.17,
          0.2,
          0.77,
          0.11,
          0.27,
          0.09,
          0.66,
          0.2,
          0.19,
          0.84,
          0.09,
          0.1,
          0.14,
          0.19,
          0.15,
          0.12,
          1.07,
          0.56,
          0.3,
          0.1,
          0.2,
          0.15,
          0.29,
          0.13,
          0.48,
          0.01,
          0.09,
          0.32,
          0.95,
          0.34,
          0.09,
          0.3,
          1.25,
          0.52,
          0.71,
          0.3,
          0.15,
          0.51,
          0.62,
          0.12,
          0.54,
          1.36,
          0.15,
          0.11,
          0.31,
          0.32,
          0.72,
          0.23,
          0.84,
          0.53,
          1.97,
          0.62,
          0.94,
          1,
          0.33,
          0.2,
          0.35,
          1.2,
          0.2,
          0.11,
          0.11,
          0.55,
          0.41,
          1.01,
          0.34,
          0.05,
          1.29,
          0.56,
          0.29,
          0.93,
          0.18,
          1.22,
          2,
          0.35,
          0.06,
          0.12,
          0.18,
          0.19,
          0.48,
          0.57,
          0.47,
          1.22,
          0.11,
          0.1,
          0.16,
          0.51,
          1.09,
          0.49,
          1.41,
          0.98,
          0.24,
          0.25,
          0.2,
          0.24,
          0.65,
          0.12,
          0.09,
          0.08,
          0.15,
          0.2,
          3,
          0.31,
          8.98,
          0.73,
          0.09,
          0.39,
          0.08,
          0.38,
          0.38,
          0.15,
          0.29,
          0.11,
          0.39,
          0.43,
          12.4,
          0.22,
          0.55,
          0.34,
          0.36,
          0.17,
          0.17,
          0.26,
          0.35,
          0.01,
          0,
          0.54,
          0.04,
          1.24,
          0.68,
          0.31,
          2.38,
          1.3,
          1.54,
          2.55,
          0.17,
          0.69,
          0.24,
          0.68,
          1.4,
          0.15,
          0.92,
          0.41,
          3.68,
          0.14,
          0.14,
          0.17,
          0.14,
          0.03,
          0.36,
          0.12,
          0.07,
          1.1,
          0.38,
          0.35,
          1.5,
          0.1,
          0.44,
          0.82,
          0.5,
          0.59,
          0.31,
          1.47,
          0.29,
          1.09,
          0.93,
          1.03,
          2.3,
          1.42,
          1.97,
          2.62,
          0.94,
          1.52,
          1.48,
          0.44,
          3.37,
          0.84,
          0.26,
          1.12,
          1.61,
          0.34,
          1.83,
          0.55,
          0.23,
          5,
          1.77,
          0.12,
          0.61,
          3.11,
          0.82,
          1.24,
          1.64,
          0.1,
          1.77,
          1.41,
          0.85,
          0.35,
          0.94,
          0.19,
          1.9,
          1.5,
          0.19,
          0.19,
          0.42,
          0.49,
          0.89,
          1.44,
          0.81,
          1.51,
          1.07,
          0.75,
          2.15,
          0.33,
          0.94,
          1.14,
          0.06,
          0.33,
          0.4,
          0.17,
          2.73,
          3.16,
          0.18,
          1,
          1.81,
          1.93,
          1.11,
          1,
          0.66,
          0.74,
          0.97,
          0.91,
          0.15,
          0.7,
          0.78,
          0.61,
          0.25,
          0.62,
          0.53,
          0.55,
          7.89,
          12.51,
          0.87,
          0.4,
          0.44,
          0.13,
          0.42,
          0.37,
          2.46,
          0.62,
          1.16,
          1.61,
          1.94,
          9.11,
          0.23,
          0.57,
          0.18,
          1.12,
          0.53,
          0.77,
          0.28,
          0.63,
          0.43,
          0.8,
          0,
          0.08,
          0.12,
          0.78,
          0.24,
          1.46,
          0.87,
          0.67,
          0.74,
          0.02,
          0.1,
          0.59,
          1.5,
          2.15,
          0.13,
          0.19,
          0.45,
          0.19,
          0.34,
          0.25,
          0.12,
          0.2,
          0.24,
          0.12,
          0.76,
          0.68,
          0.06,
          0.36,
          0.65,
          1.11,
          0.41
         ],
         "xaxis": "x",
         "y": [
          1.14,
          0.7,
          0.45,
          0.83,
          0.95,
          0.71,
          1.51,
          0.83,
          1.29,
          0.46,
          0.89,
          1.1,
          0.86,
          1.39,
          1.1,
          0.21,
          0.84,
          0.88,
          0.83,
          1.26,
          1.56,
          0.73,
          1.47,
          1.63,
          1.2,
          0.71,
          0.91,
          1.4,
          0.79,
          1.21,
          1.15,
          0.79,
          1.02,
          1.05,
          0.85,
          0.74,
          1.09,
          1.03,
          0.91,
          1.21,
          1.08,
          0.52,
          0.15,
          0.42,
          1.04,
          0.79,
          1.18,
          0.58,
          1.01,
          1.04,
          1.12,
          0.84,
          0.8,
          0.78,
          0.9,
          0.85,
          1.13,
          1.2,
          0.58,
          0.98,
          0.86,
          1.2,
          0.85,
          0.97,
          1.03,
          0.77,
          0.94,
          1.08,
          0.93,
          1.15,
          0.71,
          1.02,
          1.08,
          0.83,
          0.86,
          0.76,
          1.04,
          0.67,
          1.01,
          1.08,
          0.65,
          1.25,
          1.35,
          0.78,
          0.74,
          1.07,
          0.92,
          1.13,
          0.93,
          0.87,
          0.63,
          0.43,
          1.01,
          0.97,
          1.61,
          1.78,
          0.79,
          1.29,
          1.2,
          0.35,
          0.6,
          0.58,
          1.49,
          1.09,
          1.07,
          1.3,
          1.17,
          0.71,
          1.06,
          1.17,
          1.51,
          0.71,
          0.56,
          0.57,
          1.11,
          0.97,
          0.64,
          0.82,
          0.79,
          0.24,
          0.44,
          0.73,
          1.21,
          0.77,
          0.87,
          0.9,
          0.98,
          0.36,
          0.88,
          1.09,
          0.91,
          0.73,
          0.82,
          0.7,
          0.8,
          1.46,
          0.95,
          0.71,
          0.8,
          1.38,
          0.85,
          1.12,
          0.95,
          0.98,
          0.84,
          1.01,
          1.27,
          0.99,
          1.13,
          0.84,
          1.37,
          1.05,
          0.97,
          0.39,
          0.93,
          0.91,
          0.49,
          1.23,
          0.72,
          1.07,
          1.28,
          1.04,
          0.45,
          1.17,
          0.89,
          1.05,
          0.59,
          0.62,
          0.74,
          1.37,
          0.89,
          0.77,
          0.7,
          1.12,
          1.37,
          1.17,
          0.81,
          0.21,
          0.92,
          0.72,
          0.72,
          1.04,
          0.6,
          0.88,
          1,
          0.65,
          0.6,
          1.1,
          0.61,
          1.41,
          1.3,
          1.31,
          0.98,
          1.02,
          1.14,
          1.55,
          0.9,
          0.88,
          0.99,
          0.86,
          1.18,
          0.84,
          0.97,
          0.87,
          1.21,
          0.99,
          0.99,
          1.54,
          1.12,
          1.28,
          1.07,
          1,
          0.01,
          0.74,
          0.89,
          1.26,
          0.81,
          0.29,
          0.76,
          0.88,
          0.79,
          1.01,
          1.3,
          0.74,
          0.92,
          0.31,
          0.72,
          1.46,
          1.16,
          1.01,
          1.35,
          1.5,
          1.37,
          0.87,
          0.54,
          0.69,
          0.85,
          0.93,
          0.82,
          0.85,
          0.44,
          0.49,
          0.33,
          0.93,
          0.61,
          1.45,
          1.01,
          1.29,
          0.73,
          0.79,
          0.92,
          1.2,
          0.9,
          1.03,
          0.45,
          1.09,
          0.98,
          1.18,
          0.99,
          0.81,
          0.5,
          0.33,
          0.66,
          1.16,
          1.05,
          0.96,
          1.1,
          1.21,
          0.75,
          0.61,
          0.88,
          1.09,
          0.51,
          1.79,
          1.52,
          1.1,
          0.95,
          0.74,
          0.88,
          0.62,
          1.33,
          1.23,
          1.07,
          0.32,
          0.86,
          1.07,
          0.33,
          1.14,
          1.18,
          1.59,
          1.08,
          1.04,
          0.86,
          0.88,
          0.82,
          1.2,
          0.23,
          1.12,
          0.34,
          1.05,
          1.05,
          0.89,
          0.72,
          1.27,
          0.77,
          1.22,
          0.98,
          1.17,
          0.67,
          1.44,
          1.86,
          1.85,
          1.37,
          1.26,
          1.7,
          1.82,
          1.9,
          0.99,
          1.01,
          0.7,
          1.14,
          1.62,
          0.83,
          0.92,
          0.98,
          1.51,
          1.32,
          0.77,
          1.1,
          1.44,
          1.18,
          0.98,
          1.58,
          1.47,
          1.3,
          1.06,
          0.95,
          0.68,
          1.45,
          0.72,
          0.64,
          1.27,
          1.65,
          1.7,
          1.06,
          1.08,
          1.15,
          1.38,
          0.69,
          1.35,
          0.98,
          0.64,
          0.76,
          1.38,
          1.48,
          1.18,
          0.93,
          0.96,
          0.85,
          1.03,
          0.98,
          0.89,
          1.06,
          0.81,
          1.08,
          1.01,
          0.92,
          1.58,
          0.78,
          1.44,
          1.13,
          0.92,
          0.85,
          0.39,
          1.03,
          0.8,
          1.17,
          0.74,
          0.97,
          1.49,
          0.91,
          0.94,
          1.47,
          1.19,
          1.19,
          0.49,
          1.2,
          1.01,
          0.86,
          1.14,
          0.75,
          0.66,
          1.31,
          1.05,
          0.68,
          0.65,
          0.92,
          0.57,
          0.96,
          0.07,
          0.9,
          0.72,
          0.26,
          0.63,
          1.06,
          0.74,
          1.2,
          0.47,
          0.58,
          0.36,
          0.94,
          0.78,
          0.9,
          0.96,
          0.7,
          0.76,
          1,
          1.02,
          1.18,
          0.9,
          0.86,
          0.97,
          0.61,
          0.19,
          0.78,
          0.78,
          0.78,
          1.12,
          0.32,
          0.97,
          0.78,
          0.59,
          0.74,
          1.04,
          0.84,
          1.14
         ],
         "yaxis": "y"
        }
       ],
       "layout": {
        "legend": {
         "tracegroupgap": 0
        },
        "template": {
         "data": {
          "bar": [
           {
            "error_x": {
             "color": "#2a3f5f"
            },
            "error_y": {
             "color": "#2a3f5f"
            },
            "marker": {
             "line": {
              "color": "white",
              "width": 0.5
             }
            },
            "type": "bar"
           }
          ],
          "barpolar": [
           {
            "marker": {
             "line": {
              "color": "white",
              "width": 0.5
             }
            },
            "type": "barpolar"
           }
          ],
          "carpet": [
           {
            "aaxis": {
             "endlinecolor": "#2a3f5f",
             "gridcolor": "#C8D4E3",
             "linecolor": "#C8D4E3",
             "minorgridcolor": "#C8D4E3",
             "startlinecolor": "#2a3f5f"
            },
            "baxis": {
             "endlinecolor": "#2a3f5f",
             "gridcolor": "#C8D4E3",
             "linecolor": "#C8D4E3",
             "minorgridcolor": "#C8D4E3",
             "startlinecolor": "#2a3f5f"
            },
            "type": "carpet"
           }
          ],
          "choropleth": [
           {
            "colorbar": {
             "outlinewidth": 0,
             "ticks": ""
            },
            "type": "choropleth"
           }
          ],
          "contour": [
           {
            "colorbar": {
             "outlinewidth": 0,
             "ticks": ""
            },
            "colorscale": [
             [
              0,
              "#0d0887"
             ],
             [
              0.1111111111111111,
              "#46039f"
             ],
             [
              0.2222222222222222,
              "#7201a8"
             ],
             [
              0.3333333333333333,
              "#9c179e"
             ],
             [
              0.4444444444444444,
              "#bd3786"
             ],
             [
              0.5555555555555556,
              "#d8576b"
             ],
             [
              0.6666666666666666,
              "#ed7953"
             ],
             [
              0.7777777777777778,
              "#fb9f3a"
             ],
             [
              0.8888888888888888,
              "#fdca26"
             ],
             [
              1,
              "#f0f921"
             ]
            ],
            "type": "contour"
           }
          ],
          "contourcarpet": [
           {
            "colorbar": {
             "outlinewidth": 0,
             "ticks": ""
            },
            "type": "contourcarpet"
           }
          ],
          "heatmap": [
           {
            "colorbar": {
             "outlinewidth": 0,
             "ticks": ""
            },
            "colorscale": [
             [
              0,
              "#0d0887"
             ],
             [
              0.1111111111111111,
              "#46039f"
             ],
             [
              0.2222222222222222,
              "#7201a8"
             ],
             [
              0.3333333333333333,
              "#9c179e"
             ],
             [
              0.4444444444444444,
              "#bd3786"
             ],
             [
              0.5555555555555556,
              "#d8576b"
             ],
             [
              0.6666666666666666,
              "#ed7953"
             ],
             [
              0.7777777777777778,
              "#fb9f3a"
             ],
             [
              0.8888888888888888,
              "#fdca26"
             ],
             [
              1,
              "#f0f921"
             ]
            ],
            "type": "heatmap"
           }
          ],
          "heatmapgl": [
           {
            "colorbar": {
             "outlinewidth": 0,
             "ticks": ""
            },
            "colorscale": [
             [
              0,
              "#0d0887"
             ],
             [
              0.1111111111111111,
              "#46039f"
             ],
             [
              0.2222222222222222,
              "#7201a8"
             ],
             [
              0.3333333333333333,
              "#9c179e"
             ],
             [
              0.4444444444444444,
              "#bd3786"
             ],
             [
              0.5555555555555556,
              "#d8576b"
             ],
             [
              0.6666666666666666,
              "#ed7953"
             ],
             [
              0.7777777777777778,
              "#fb9f3a"
             ],
             [
              0.8888888888888888,
              "#fdca26"
             ],
             [
              1,
              "#f0f921"
             ]
            ],
            "type": "heatmapgl"
           }
          ],
          "histogram": [
           {
            "marker": {
             "colorbar": {
              "outlinewidth": 0,
              "ticks": ""
             }
            },
            "type": "histogram"
           }
          ],
          "histogram2d": [
           {
            "colorbar": {
             "outlinewidth": 0,
             "ticks": ""
            },
            "colorscale": [
             [
              0,
              "#0d0887"
             ],
             [
              0.1111111111111111,
              "#46039f"
             ],
             [
              0.2222222222222222,
              "#7201a8"
             ],
             [
              0.3333333333333333,
              "#9c179e"
             ],
             [
              0.4444444444444444,
              "#bd3786"
             ],
             [
              0.5555555555555556,
              "#d8576b"
             ],
             [
              0.6666666666666666,
              "#ed7953"
             ],
             [
              0.7777777777777778,
              "#fb9f3a"
             ],
             [
              0.8888888888888888,
              "#fdca26"
             ],
             [
              1,
              "#f0f921"
             ]
            ],
            "type": "histogram2d"
           }
          ],
          "histogram2dcontour": [
           {
            "colorbar": {
             "outlinewidth": 0,
             "ticks": ""
            },
            "colorscale": [
             [
              0,
              "#0d0887"
             ],
             [
              0.1111111111111111,
              "#46039f"
             ],
             [
              0.2222222222222222,
              "#7201a8"
             ],
             [
              0.3333333333333333,
              "#9c179e"
             ],
             [
              0.4444444444444444,
              "#bd3786"
             ],
             [
              0.5555555555555556,
              "#d8576b"
             ],
             [
              0.6666666666666666,
              "#ed7953"
             ],
             [
              0.7777777777777778,
              "#fb9f3a"
             ],
             [
              0.8888888888888888,
              "#fdca26"
             ],
             [
              1,
              "#f0f921"
             ]
            ],
            "type": "histogram2dcontour"
           }
          ],
          "mesh3d": [
           {
            "colorbar": {
             "outlinewidth": 0,
             "ticks": ""
            },
            "type": "mesh3d"
           }
          ],
          "parcoords": [
           {
            "line": {
             "colorbar": {
              "outlinewidth": 0,
              "ticks": ""
             }
            },
            "type": "parcoords"
           }
          ],
          "pie": [
           {
            "automargin": true,
            "type": "pie"
           }
          ],
          "scatter": [
           {
            "marker": {
             "colorbar": {
              "outlinewidth": 0,
              "ticks": ""
             }
            },
            "type": "scatter"
           }
          ],
          "scatter3d": [
           {
            "line": {
             "colorbar": {
              "outlinewidth": 0,
              "ticks": ""
             }
            },
            "marker": {
             "colorbar": {
              "outlinewidth": 0,
              "ticks": ""
             }
            },
            "type": "scatter3d"
           }
          ],
          "scattercarpet": [
           {
            "marker": {
             "colorbar": {
              "outlinewidth": 0,
              "ticks": ""
             }
            },
            "type": "scattercarpet"
           }
          ],
          "scattergeo": [
           {
            "marker": {
             "colorbar": {
              "outlinewidth": 0,
              "ticks": ""
             }
            },
            "type": "scattergeo"
           }
          ],
          "scattergl": [
           {
            "marker": {
             "colorbar": {
              "outlinewidth": 0,
              "ticks": ""
             }
            },
            "type": "scattergl"
           }
          ],
          "scattermapbox": [
           {
            "marker": {
             "colorbar": {
              "outlinewidth": 0,
              "ticks": ""
             }
            },
            "type": "scattermapbox"
           }
          ],
          "scatterpolar": [
           {
            "marker": {
             "colorbar": {
              "outlinewidth": 0,
              "ticks": ""
             }
            },
            "type": "scatterpolar"
           }
          ],
          "scatterpolargl": [
           {
            "marker": {
             "colorbar": {
              "outlinewidth": 0,
              "ticks": ""
             }
            },
            "type": "scatterpolargl"
           }
          ],
          "scatterternary": [
           {
            "marker": {
             "colorbar": {
              "outlinewidth": 0,
              "ticks": ""
             }
            },
            "type": "scatterternary"
           }
          ],
          "surface": [
           {
            "colorbar": {
             "outlinewidth": 0,
             "ticks": ""
            },
            "colorscale": [
             [
              0,
              "#0d0887"
             ],
             [
              0.1111111111111111,
              "#46039f"
             ],
             [
              0.2222222222222222,
              "#7201a8"
             ],
             [
              0.3333333333333333,
              "#9c179e"
             ],
             [
              0.4444444444444444,
              "#bd3786"
             ],
             [
              0.5555555555555556,
              "#d8576b"
             ],
             [
              0.6666666666666666,
              "#ed7953"
             ],
             [
              0.7777777777777778,
              "#fb9f3a"
             ],
             [
              0.8888888888888888,
              "#fdca26"
             ],
             [
              1,
              "#f0f921"
             ]
            ],
            "type": "surface"
           }
          ],
          "table": [
           {
            "cells": {
             "fill": {
              "color": "#EBF0F8"
             },
             "line": {
              "color": "white"
             }
            },
            "header": {
             "fill": {
              "color": "#C8D4E3"
             },
             "line": {
              "color": "white"
             }
            },
            "type": "table"
           }
          ]
         },
         "layout": {
          "annotationdefaults": {
           "arrowcolor": "#2a3f5f",
           "arrowhead": 0,
           "arrowwidth": 1
          },
          "coloraxis": {
           "colorbar": {
            "outlinewidth": 0,
            "ticks": ""
           }
          },
          "colorscale": {
           "diverging": [
            [
             0,
             "#8e0152"
            ],
            [
             0.1,
             "#c51b7d"
            ],
            [
             0.2,
             "#de77ae"
            ],
            [
             0.3,
             "#f1b6da"
            ],
            [
             0.4,
             "#fde0ef"
            ],
            [
             0.5,
             "#f7f7f7"
            ],
            [
             0.6,
             "#e6f5d0"
            ],
            [
             0.7,
             "#b8e186"
            ],
            [
             0.8,
             "#7fbc41"
            ],
            [
             0.9,
             "#4d9221"
            ],
            [
             1,
             "#276419"
            ]
           ],
           "sequential": [
            [
             0,
             "#0d0887"
            ],
            [
             0.1111111111111111,
             "#46039f"
            ],
            [
             0.2222222222222222,
             "#7201a8"
            ],
            [
             0.3333333333333333,
             "#9c179e"
            ],
            [
             0.4444444444444444,
             "#bd3786"
            ],
            [
             0.5555555555555556,
             "#d8576b"
            ],
            [
             0.6666666666666666,
             "#ed7953"
            ],
            [
             0.7777777777777778,
             "#fb9f3a"
            ],
            [
             0.8888888888888888,
             "#fdca26"
            ],
            [
             1,
             "#f0f921"
            ]
           ],
           "sequentialminus": [
            [
             0,
             "#0d0887"
            ],
            [
             0.1111111111111111,
             "#46039f"
            ],
            [
             0.2222222222222222,
             "#7201a8"
            ],
            [
             0.3333333333333333,
             "#9c179e"
            ],
            [
             0.4444444444444444,
             "#bd3786"
            ],
            [
             0.5555555555555556,
             "#d8576b"
            ],
            [
             0.6666666666666666,
             "#ed7953"
            ],
            [
             0.7777777777777778,
             "#fb9f3a"
            ],
            [
             0.8888888888888888,
             "#fdca26"
            ],
            [
             1,
             "#f0f921"
            ]
           ]
          },
          "colorway": [
           "#636efa",
           "#EF553B",
           "#00cc96",
           "#ab63fa",
           "#FFA15A",
           "#19d3f3",
           "#FF6692",
           "#B6E880",
           "#FF97FF",
           "#FECB52"
          ],
          "font": {
           "color": "#2a3f5f"
          },
          "geo": {
           "bgcolor": "white",
           "lakecolor": "white",
           "landcolor": "white",
           "showlakes": true,
           "showland": true,
           "subunitcolor": "#C8D4E3"
          },
          "hoverlabel": {
           "align": "left"
          },
          "hovermode": "closest",
          "mapbox": {
           "style": "light"
          },
          "paper_bgcolor": "white",
          "plot_bgcolor": "white",
          "polar": {
           "angularaxis": {
            "gridcolor": "#EBF0F8",
            "linecolor": "#EBF0F8",
            "ticks": ""
           },
           "bgcolor": "white",
           "radialaxis": {
            "gridcolor": "#EBF0F8",
            "linecolor": "#EBF0F8",
            "ticks": ""
           }
          },
          "scene": {
           "xaxis": {
            "backgroundcolor": "white",
            "gridcolor": "#DFE8F3",
            "gridwidth": 2,
            "linecolor": "#EBF0F8",
            "showbackground": true,
            "ticks": "",
            "zerolinecolor": "#EBF0F8"
           },
           "yaxis": {
            "backgroundcolor": "white",
            "gridcolor": "#DFE8F3",
            "gridwidth": 2,
            "linecolor": "#EBF0F8",
            "showbackground": true,
            "ticks": "",
            "zerolinecolor": "#EBF0F8"
           },
           "zaxis": {
            "backgroundcolor": "white",
            "gridcolor": "#DFE8F3",
            "gridwidth": 2,
            "linecolor": "#EBF0F8",
            "showbackground": true,
            "ticks": "",
            "zerolinecolor": "#EBF0F8"
           }
          },
          "shapedefaults": {
           "line": {
            "color": "#2a3f5f"
           }
          },
          "ternary": {
           "aaxis": {
            "gridcolor": "#DFE8F3",
            "linecolor": "#A2B1C6",
            "ticks": ""
           },
           "baxis": {
            "gridcolor": "#DFE8F3",
            "linecolor": "#A2B1C6",
            "ticks": ""
           },
           "bgcolor": "white",
           "caxis": {
            "gridcolor": "#DFE8F3",
            "linecolor": "#A2B1C6",
            "ticks": ""
           }
          },
          "title": {
           "x": 0.05
          },
          "xaxis": {
           "automargin": true,
           "gridcolor": "#EBF0F8",
           "linecolor": "#EBF0F8",
           "ticks": "",
           "title": {
            "standoff": 15
           },
           "zerolinecolor": "#EBF0F8",
           "zerolinewidth": 2
          },
          "yaxis": {
           "automargin": true,
           "gridcolor": "#EBF0F8",
           "linecolor": "#EBF0F8",
           "ticks": "",
           "title": {
            "standoff": 15
           },
           "zerolinecolor": "#EBF0F8",
           "zerolinewidth": 2
          }
         }
        },
        "title": {
         "text": "Raw Data"
        },
        "xaxis": {
         "anchor": "y",
         "domain": [
          0,
          1
         ],
         "title": {
          "text": "Value-to-Cost Ratio"
         }
        },
        "yaxis": {
         "anchor": "x",
         "domain": [
          0,
          1
         ],
         "title": {
          "text": "Vulnerability Score"
         }
        }
       }
      }
     },
     "metadata": {}
    }
   ],
   "source": [
    "p1 = px.scatter(galloway, x='Value-to-Cost Ratio', y='Vulnerability Score', opacity=0.5, template='plotly_white', hover_data=['Institution Name'], title='Raw Data')\n",
    "p1.show()"
   ]
  },
  {
   "cell_type": "code",
   "execution_count": 37,
   "metadata": {},
   "outputs": [
    {
     "output_type": "display_data",
     "data": {
      "application/vnd.plotly.v1+json": {
       "config": {
        "plotlyServerURL": "https://plot.ly"
       },
       "data": [
        {
         "customdata": [
          [
           "Adelphi University"
          ],
          [
           "Agnes Scott College"
          ],
          [
           "Albion College"
          ],
          [
           "Allegheny College"
          ],
          [
           "American University"
          ],
          [
           "Amherst College"
          ],
          [
           "Arizona State University-Tempe"
          ],
          [
           "Auburn University"
          ],
          [
           "Augustana College"
          ],
          [
           "Austin College"
          ],
          [
           "Azusa Pacific University"
          ],
          [
           "Baker University"
          ],
          [
           "Ball State University"
          ],
          [
           "Bard College"
          ],
          [
           "Barnard College"
          ],
          [
           "Bates College"
          ],
          [
           "Baylor University"
          ],
          [
           "Bellarmine University"
          ],
          [
           "Belmont University"
          ],
          [
           "Beloit College"
          ],
          [
           "Bennington College"
          ],
          [
           "Berea College"
          ],
          [
           "Bethel University"
          ],
          [
           "Binghamton University"
          ],
          [
           "Biola University"
          ],
          [
           "Birmingham Southern College"
          ],
          [
           "Boston College"
          ],
          [
           "Boston University"
          ],
          [
           "Bowdoin College"
          ],
          [
           "Bowling Green State University-Main Campus"
          ],
          [
           "Brandeis University"
          ],
          [
           "Brigham Young University-Provo"
          ],
          [
           "Brown University"
          ],
          [
           "Bryn Mawr College"
          ],
          [
           "Bucknell University"
          ],
          [
           "California Institute of Technology"
          ],
          [
           "California State University-Fresno"
          ],
          [
           "Campbell University"
          ],
          [
           "Carleton College"
          ],
          [
           "Carnegie Mellon University"
          ],
          [
           "Case Western Reserve University"
          ],
          [
           "Catholic University of America"
          ],
          [
           "Centenary College of Louisiana"
          ],
          [
           "Central College"
          ],
          [
           "Central Michigan University"
          ],
          [
           "Centre College"
          ],
          [
           "Chapman University"
          ],
          [
           "Chatham University"
          ],
          [
           "Claremont McKenna College"
          ],
          [
           "Clark University"
          ],
          [
           "Clarke University"
          ],
          [
           "Clarkson University"
          ],
          [
           "Clemson University"
          ],
          [
           "Coe College"
          ],
          [
           "Colby College"
          ],
          [
           "Colgate University"
          ],
          [
           "College of Saint Benedict"
          ],
          [
           "College of the Atlantic"
          ],
          [
           "College of the Holy Cross"
          ],
          [
           "College of William and Mary"
          ],
          [
           "Colorado College"
          ],
          [
           "Colorado School of Mines"
          ],
          [
           "Colorado State University-Fort Collins"
          ],
          [
           "Columbia University in the City of New York"
          ],
          [
           "Concordia College at Moorhead"
          ],
          [
           "Concordia University-Wisconsin"
          ],
          [
           "Connecticut College"
          ],
          [
           "Cornell College"
          ],
          [
           "Cornell University"
          ],
          [
           "Covenant College"
          ],
          [
           "Creighton University"
          ],
          [
           "CUNY City College"
          ],
          [
           "Daemen College"
          ],
          [
           "Dallas Baptist University"
          ],
          [
           "Dartmouth College"
          ],
          [
           "Davidson College"
          ],
          [
           "Denison University"
          ],
          [
           "DePaul University"
          ],
          [
           "DePauw University"
          ],
          [
           "Dickinson College"
          ],
          [
           "Drake University"
          ],
          [
           "Drew University"
          ],
          [
           "Drexel University"
          ],
          [
           "Duke University"
          ],
          [
           "Duquesne University"
          ],
          [
           "Earlham College"
          ],
          [
           "East Carolina University"
          ],
          [
           "Eckerd College"
          ],
          [
           "Edgewood College"
          ],
          [
           "Elizabethtown College"
          ],
          [
           "Elon University"
          ],
          [
           "Emory & Henry College"
          ],
          [
           "Emory University"
          ],
          [
           "Florida Atlantic University"
          ],
          [
           "Florida Institute of Technology"
          ],
          [
           "Florida International University"
          ],
          [
           "Florida State University"
          ],
          [
           "Fordham University"
          ],
          [
           "Franklin and Marshall College"
          ],
          [
           "Franklin College"
          ],
          [
           "Furman University"
          ],
          [
           "Gallaudet University"
          ],
          [
           "Gannon University"
          ],
          [
           "Gardner-Webb University"
          ],
          [
           "George Fox University"
          ],
          [
           "George Mason University"
          ],
          [
           "George Washington University"
          ],
          [
           "Georgetown College"
          ],
          [
           "Georgetown University"
          ],
          [
           "Georgia Institute of Technology-Main Campus"
          ],
          [
           "Georgia State University"
          ],
          [
           "Gettysburg College"
          ],
          [
           "Gonzaga University"
          ],
          [
           "Goucher College"
          ],
          [
           "Grand Valley State University"
          ],
          [
           "Grinnell College"
          ],
          [
           "Guilford College"
          ],
          [
           "Gustavus Adolphus College"
          ],
          [
           "Hamilton College"
          ],
          [
           "Hampden-Sydney College"
          ],
          [
           "Hampton University"
          ],
          [
           "Hanover College"
          ],
          [
           "Harding University"
          ],
          [
           "Hartwick College"
          ],
          [
           "Harvard University"
          ],
          [
           "Harvey Mudd College"
          ],
          [
           "Haverford College"
          ],
          [
           "Hendrix College"
          ],
          [
           "Hobart William Smith Colleges"
          ],
          [
           "Hofstra University"
          ],
          [
           "Hollins University"
          ],
          [
           "Hope College"
          ],
          [
           "Houghton College"
          ],
          [
           "Howard University"
          ],
          [
           "Illinois College"
          ],
          [
           "Illinois Institute of Technology"
          ],
          [
           "Illinois State University"
          ],
          [
           "Illinois Wesleyan University"
          ],
          [
           "Immaculata University"
          ],
          [
           "Indiana University-Bloomington"
          ],
          [
           "Indiana University-Purdue University-Indianapolis"
          ],
          [
           "Iowa State University"
          ],
          [
           "Johns Hopkins University"
          ],
          [
           "Juniata College"
          ],
          [
           "Kalamazoo College"
          ],
          [
           "Kansas State University"
          ],
          [
           "Kent State University at Kent"
          ],
          [
           "Kenyon College"
          ],
          [
           "Knox College"
          ],
          [
           "Lafayette College"
          ],
          [
           "Lake Forest College"
          ],
          [
           "Lawrence University"
          ],
          [
           "Lehigh University"
          ],
          [
           "Lesley University"
          ],
          [
           "Lewis & Clark College"
          ],
          [
           "Lincoln Memorial University"
          ],
          [
           "Linfield College-McMinnville Campus"
          ],
          [
           "Lipscomb University"
          ],
          [
           "Long Island University"
          ],
          [
           "Louisiana Tech University"
          ],
          [
           "Loyola Marymount University"
          ],
          [
           "Loyola University Chicago"
          ],
          [
           "Loyola University New Orleans"
          ],
          [
           "Luther College"
          ],
          [
           "Lycoming College"
          ],
          [
           "Macalester College"
          ],
          [
           "Marlboro College"
          ],
          [
           "Marquette University"
          ],
          [
           "Mary Baldwin University"
          ],
          [
           "Maryville University of Saint Louis"
          ],
          [
           "Massachusetts College of Liberal Arts"
          ],
          [
           "Massachusetts Institute of Technology"
          ],
          [
           "Mercer University"
          ],
          [
           "Meredith College"
          ],
          [
           "Miami University-Oxford"
          ],
          [
           "Michigan State University"
          ],
          [
           "Michigan Technological University"
          ],
          [
           "Middlebury College"
          ],
          [
           "Millsaps College"
          ],
          [
           "Misericordia University"
          ],
          [
           "Mississippi State University"
          ],
          [
           "Missouri University of Science and Technology"
          ],
          [
           "Monmouth College"
          ],
          [
           "Montana State University"
          ],
          [
           "Montclair State University"
          ],
          [
           "Moravian College"
          ],
          [
           "Morehouse College"
          ],
          [
           "Mount Holyoke College"
          ],
          [
           "Muhlenberg College"
          ],
          [
           "New Jersey Institute of Technology"
          ],
          [
           "New Mexico State University-Main Campus"
          ],
          [
           "New York University"
          ],
          [
           "North Carolina A & T State University"
          ],
          [
           "North Carolina State University at Raleigh"
          ],
          [
           "North Dakota State University-Main Campus"
          ],
          [
           "Northeastern University"
          ],
          [
           "Northwestern University"
          ],
          [
           "Nova Southeastern University"
          ],
          [
           "Oberlin College"
          ],
          [
           "Occidental College"
          ],
          [
           "Ohio State University-Main Campus"
          ],
          [
           "Ohio University-Main Campus"
          ],
          [
           "Ohio Wesleyan University"
          ],
          [
           "Oklahoma City University"
          ],
          [
           "Oklahoma State University-Main Campus"
          ],
          [
           "Old Dominion University"
          ],
          [
           "Oregon State University"
          ],
          [
           "Pace University"
          ],
          [
           "Pacific University"
          ],
          [
           "Pennsylvania State University-Main Campus"
          ],
          [
           "Pepperdine University"
          ],
          [
           "Pitzer College"
          ],
          [
           "Pomona College"
          ],
          [
           "Presbyterian College"
          ],
          [
           "Princeton University"
          ],
          [
           "Purdue University-Main Campus"
          ],
          [
           "Quinnipiac University"
          ],
          [
           "Randolph College"
          ],
          [
           "Randolph-Macon College"
          ],
          [
           "Reed College"
          ],
          [
           "Regent University"
          ],
          [
           "Regis University"
          ],
          [
           "Rensselaer Polytechnic Institute"
          ],
          [
           "Rhodes College"
          ],
          [
           "Rice University"
          ],
          [
           "Ripon College"
          ],
          [
           "Roanoke College"
          ],
          [
           "Robert Morris University"
          ],
          [
           "Rochester Institute of Technology"
          ],
          [
           "Rowan University"
          ],
          [
           "Rutgers University-Camden"
          ],
          [
           "Rutgers University-New Brunswick"
          ],
          [
           "Rutgers University-Newark"
          ],
          [
           "Sacred Heart University"
          ],
          [
           "Saint Anselm College"
          ],
          [
           "Saint John Fisher College"
          ],
          [
           "Saint Johns University"
          ],
          [
           "Saint Louis University"
          ],
          [
           "Saint Mary's College"
          ],
          [
           "Saint Michael's College"
          ],
          [
           "Saint Norbert College"
          ],
          [
           "Saint Vincent College"
          ],
          [
           "Salem College"
          ],
          [
           "Sam Houston State University"
          ],
          [
           "Samford University"
          ],
          [
           "San Diego State University"
          ],
          [
           "Santa Clara University"
          ],
          [
           "Sarah Lawrence College"
          ],
          [
           "Scripps College"
          ],
          [
           "Seattle Pacific University"
          ],
          [
           "Seattle University"
          ],
          [
           "Seton Hall University"
          ],
          [
           "Shenandoah University"
          ],
          [
           "Simmons University"
          ],
          [
           "Simpson College"
          ],
          [
           "Skidmore College"
          ],
          [
           "Smith College"
          ],
          [
           "South Dakota State University"
          ],
          [
           "Southern Illinois University-Carbondale"
          ],
          [
           "Southern Methodist University"
          ],
          [
           "Southwestern University"
          ],
          [
           "Spelman College"
          ],
          [
           "St Catherine University"
          ],
          [
           "St John's University-New York"
          ],
          [
           "St Lawrence University"
          ],
          [
           "St Olaf College"
          ],
          [
           "St. John's College - MD"
          ],
          [
           "St. John's College - NM"
          ],
          [
           "St. Mary's College of Maryland"
          ],
          [
           "St. Thomas Aquinas College"
          ],
          [
           "Stanford University"
          ],
          [
           "Stevens Institute of Technology"
          ],
          [
           "Stonehill College"
          ],
          [
           "Stony Brook University"
          ],
          [
           "SUNY at Albany"
          ],
          [
           "SUNY Buffalo State"
          ],
          [
           "SUNY College of Environmental Science and Forestry"
          ],
          [
           "Susquehanna University"
          ],
          [
           "Swarthmore College"
          ],
          [
           "Sweet Briar College"
          ],
          [
           "Syracuse University"
          ],
          [
           "Temple University"
          ],
          [
           "Tennessee Technological University"
          ],
          [
           "Texas A & M University-College Station"
          ],
          [
           "Texas Christian University"
          ],
          [
           "Texas Tech University"
          ],
          [
           "The College of Idaho"
          ],
          [
           "The College of Saint Scholastica"
          ],
          [
           "The College of Wooster"
          ],
          [
           "The New School"
          ],
          [
           "The Sage Colleges"
          ],
          [
           "The University of Alabama"
          ],
          [
           "The University of Findlay"
          ],
          [
           "The University of Montana"
          ],
          [
           "The University of Texas at Austin"
          ],
          [
           "The University of Texas at Dallas"
          ],
          [
           "Thomas Jefferson University"
          ],
          [
           "Towson University"
          ],
          [
           "Transylvania University"
          ],
          [
           "Trinity College"
          ],
          [
           "Tufts University"
          ],
          [
           "Tulane University of Louisiana"
          ],
          [
           "Union College"
          ],
          [
           "Union University"
          ],
          [
           "University of Alabama at Birmingham"
          ],
          [
           "University of Alabama in Huntsville"
          ],
          [
           "University of Alaska Fairbanks"
          ],
          [
           "University of Arizona"
          ],
          [
           "University of Arkansas"
          ],
          [
           "University of California-Berkeley"
          ],
          [
           "University of California-Davis"
          ],
          [
           "University of California-Irvine"
          ],
          [
           "University of California-Los Angeles"
          ],
          [
           "University of California-Riverside"
          ],
          [
           "University of California-San Diego"
          ],
          [
           "University of California-Santa Barbara"
          ],
          [
           "University of California-Santa Cruz"
          ],
          [
           "University of Central Florida"
          ],
          [
           "University of Chicago"
          ],
          [
           "University of Cincinnati-Main Campus"
          ],
          [
           "University of Colorado Denver/Anschutz Medical Campus"
          ],
          [
           "University of Connecticut"
          ],
          [
           "University of Dayton"
          ],
          [
           "University of Delaware"
          ],
          [
           "University of Denver"
          ],
          [
           "University of Detroit Mercy"
          ],
          [
           "University of Florida"
          ],
          [
           "University of Georgia"
          ],
          [
           "University of Hartford"
          ],
          [
           "University of Hawaii at Manoa"
          ],
          [
           "University of Houston"
          ],
          [
           "University of Idaho"
          ],
          [
           "University of Illinois at Chicago"
          ],
          [
           "University of Illinois at Urbana-Champaign"
          ],
          [
           "University of Indianapolis"
          ],
          [
           "University of Iowa"
          ],
          [
           "University of Kansas"
          ],
          [
           "University of Kentucky"
          ],
          [
           "University of La Verne"
          ],
          [
           "University of Louisville"
          ],
          [
           "University of Maine"
          ],
          [
           "University of Maryland-College Park"
          ],
          [
           "University of Massachusetts-Amherst"
          ],
          [
           "University of Massachusetts-Boston"
          ],
          [
           "University of Massachusetts-Dartmouth"
          ],
          [
           "University of Massachusetts-Lowell"
          ],
          [
           "University of Memphis"
          ],
          [
           "University of Miami"
          ],
          [
           "University of Michigan-Ann Arbor"
          ],
          [
           "University of Minnesota-Morris"
          ],
          [
           "University of Minnesota-Twin Cities"
          ],
          [
           "University of Mississippi"
          ],
          [
           "University of Missouri-Columbia"
          ],
          [
           "University of Missouri-Kansas City"
          ],
          [
           "University of Missouri-St Louis"
          ],
          [
           "University of Nebraska-Lincoln"
          ],
          [
           "University of Nevada-Reno"
          ],
          [
           "University of New England"
          ],
          [
           "University of New Hampshire-Main Campus"
          ],
          [
           "University of New Mexico-Main Campus"
          ],
          [
           "University of North Carolina at Asheville"
          ],
          [
           "University of North Carolina at Chapel Hill"
          ],
          [
           "University of North Carolina at Charlotte"
          ],
          [
           "University of North Carolina at Greensboro"
          ],
          [
           "University of North Carolina Wilmington"
          ],
          [
           "University of North Dakota"
          ],
          [
           "University of North Florida"
          ],
          [
           "University of North Texas"
          ],
          [
           "University of Notre Dame"
          ],
          [
           "University of Oklahoma-Norman Campus"
          ],
          [
           "University of Oregon"
          ],
          [
           "University of Pennsylvania"
          ],
          [
           "University of Pittsburgh-Pittsburgh Campus"
          ],
          [
           "University of Puget Sound"
          ],
          [
           "University of Rhode Island"
          ],
          [
           "University of Richmond"
          ],
          [
           "University of Rochester"
          ],
          [
           "University of Saint Joseph"
          ],
          [
           "University of San Diego"
          ],
          [
           "University of San Francisco"
          ],
          [
           "University of South Carolina-Columbia"
          ],
          [
           "University of South Dakota"
          ],
          [
           "University of South Florida-Main Campus"
          ],
          [
           "University of Southern California"
          ],
          [
           "University of St Francis"
          ],
          [
           "University of St Thomas"
          ],
          [
           "University of the Incarnate Word"
          ],
          [
           "University of the Pacific"
          ],
          [
           "University of Tulsa"
          ],
          [
           "University of Utah"
          ],
          [
           "University of Vermont"
          ],
          [
           "University of Virginia-Main Campus"
          ],
          [
           "University of Washington-Seattle Campus"
          ],
          [
           "University of Wisconsin-Madison"
          ],
          [
           "University of Wyoming"
          ],
          [
           "Ursinus College"
          ],
          [
           "Utah State University"
          ],
          [
           "Valparaiso University"
          ],
          [
           "Vanderbilt University"
          ],
          [
           "Vassar College"
          ],
          [
           "Villanova University"
          ],
          [
           "Virginia Commonwealth University"
          ],
          [
           "Virginia Military Institute"
          ],
          [
           "Wabash College"
          ],
          [
           "Wake Forest University"
          ],
          [
           "Warren Wilson College"
          ],
          [
           "Wartburg College"
          ],
          [
           "Washington & Jefferson College"
          ],
          [
           "Washington and Lee University"
          ],
          [
           "Washington College"
          ],
          [
           "Washington State University"
          ],
          [
           "Washington University in St Louis"
          ],
          [
           "Wayne State University"
          ],
          [
           "Wellesley College"
          ],
          [
           "Wells College"
          ],
          [
           "Wesleyan College"
          ],
          [
           "Wesleyan University"
          ],
          [
           "West Virginia University"
          ],
          [
           "Western Michigan University"
          ],
          [
           "Western New England University"
          ],
          [
           "Westminster College"
          ],
          [
           "Westminster College"
          ],
          [
           "Westmont College"
          ],
          [
           "Wheaton College"
          ],
          [
           "Whitman College"
          ],
          [
           "Whittier College"
          ],
          [
           "Widener University"
          ],
          [
           "Wilkes University"
          ],
          [
           "Willamette University"
          ],
          [
           "William Carey University"
          ],
          [
           "Williams College"
          ],
          [
           "Wittenberg University"
          ],
          [
           "Wofford College"
          ],
          [
           "Worcester Polytechnic Institute"
          ],
          [
           "Yale University"
          ],
          [
           "Yeshiva University"
          ]
         ],
         "hovertemplate": "Value-to-Cost Ratio=%{x}<br>Vulnerability Score=%{y}<br>Institution Name=%{customdata[0]}<extra></extra>",
         "legendgroup": "",
         "marker": {
          "color": "#636efa",
          "opacity": 0.5,
          "symbol": "circle"
         },
         "mode": "markers",
         "name": "",
         "orientation": "v",
         "showlegend": false,
         "type": "scatter",
         "x": [
          0.44,
          0.2,
          0.13,
          0.29,
          0.46,
          0.81,
          0.75,
          0.93,
          0.31,
          0.21,
          0.29,
          0.14,
          0.69,
          0.13,
          0.72,
          0.63,
          0.39,
          0.12,
          0.09,
          0.13,
          0.1,
          0.24,
          0.19,
          2.48,
          0.1,
          0.55,
          0.82,
          0.84,
          0.87,
          0.22,
          0.39,
          29.97,
          0.88,
          0.58,
          0.58,
          0.77,
          4.72,
          0.16,
          0.54,
          0.68,
          0.79,
          0.23,
          0.1,
          0.11,
          0.49,
          0.2,
          0.31,
          0.08,
          0.65,
          0.27,
          0.03,
          0.33,
          1.34,
          0.13,
          0.62,
          0.69,
          0.17,
          0.09,
          0.59,
          0.66,
          0.28,
          1.14,
          0.31,
          0.97,
          0.12,
          0.1,
          0.33,
          0.11,
          0.95,
          0.03,
          0.45,
          17.55,
          0.16,
          0.06,
          0.8,
          0.79,
          0.35,
          0.45,
          0.41,
          0.27,
          0.43,
          0.24,
          0.42,
          0.97,
          0.46,
          0.09,
          1.13,
          0.08,
          0.11,
          0.17,
          0.38,
          0.05,
          0.99,
          14.95,
          0.28,
          7.45,
          19.8,
          0.43,
          0.31,
          0.09,
          0.41,
          0.93,
          0.17,
          0.12,
          0.09,
          1,
          0.68,
          0.09,
          1,
          2.05,
          0.95,
          0.41,
          0.46,
          0.12,
          0.73,
          0.47,
          0.02,
          0.29,
          0.68,
          0.21,
          0.13,
          0.13,
          0.13,
          0.06,
          1.26,
          0.51,
          0.66,
          0.12,
          0.15,
          0.31,
          0.15,
          0.2,
          0.02,
          1.25,
          0.12,
          0.29,
          0.87,
          0.38,
          0.14,
          0.96,
          0.26,
          2.02,
          0.89,
          0.17,
          0.2,
          0.77,
          0.11,
          0.27,
          0.09,
          0.66,
          0.2,
          0.19,
          0.84,
          0.09,
          0.1,
          0.14,
          0.19,
          0.15,
          0.12,
          1.07,
          0.56,
          0.3,
          0.1,
          0.2,
          0.15,
          0.29,
          0.13,
          0.48,
          0.01,
          0.09,
          0.32,
          0.95,
          0.34,
          0.09,
          0.3,
          1.25,
          0.52,
          0.71,
          0.3,
          0.15,
          0.51,
          0.62,
          0.12,
          0.54,
          1.36,
          0.15,
          0.11,
          0.31,
          0.32,
          0.72,
          0.23,
          0.84,
          0.53,
          1.97,
          0.62,
          0.94,
          1,
          0.33,
          0.2,
          0.35,
          1.2,
          0.2,
          0.11,
          0.11,
          0.55,
          0.41,
          1.01,
          0.34,
          0.05,
          1.29,
          0.56,
          0.29,
          0.93,
          0.18,
          1.22,
          2,
          0.35,
          0.06,
          0.12,
          0.18,
          0.19,
          0.48,
          0.57,
          0.47,
          1.22,
          0.11,
          0.1,
          0.16,
          0.51,
          1.09,
          0.49,
          1.41,
          0.98,
          0.24,
          0.25,
          0.2,
          0.24,
          0.65,
          0.12,
          0.09,
          0.08,
          0.15,
          0.2,
          3,
          0.31,
          8.98,
          0.73,
          0.09,
          0.39,
          0.08,
          0.38,
          0.38,
          0.15,
          0.29,
          0.11,
          0.39,
          0.43,
          12.4,
          0.22,
          0.55,
          0.34,
          0.36,
          0.17,
          0.17,
          0.26,
          0.35,
          0.01,
          0,
          0.54,
          0.04,
          1.24,
          0.68,
          0.31,
          2.38,
          1.3,
          1.54,
          2.55,
          0.17,
          0.69,
          0.24,
          0.68,
          1.4,
          0.15,
          0.92,
          0.41,
          3.68,
          0.14,
          0.14,
          0.17,
          0.14,
          0.03,
          0.36,
          0.12,
          0.07,
          1.1,
          0.38,
          0.35,
          1.5,
          0.1,
          0.44,
          0.82,
          0.5,
          0.59,
          0.31,
          1.47,
          0.29,
          1.09,
          0.93,
          1.03,
          2.3,
          1.42,
          1.97,
          2.62,
          0.94,
          1.52,
          1.48,
          0.44,
          3.37,
          0.84,
          0.26,
          1.12,
          1.61,
          0.34,
          1.83,
          0.55,
          0.23,
          5,
          1.77,
          0.12,
          0.61,
          3.11,
          0.82,
          1.24,
          1.64,
          0.1,
          1.77,
          1.41,
          0.85,
          0.35,
          0.94,
          0.19,
          1.9,
          1.5,
          0.19,
          0.19,
          0.42,
          0.49,
          0.89,
          1.44,
          0.81,
          1.51,
          1.07,
          0.75,
          2.15,
          0.33,
          0.94,
          1.14,
          0.06,
          0.33,
          0.4,
          0.17,
          2.73,
          3.16,
          0.18,
          1,
          1.81,
          1.93,
          1.11,
          1,
          0.66,
          0.74,
          0.97,
          0.91,
          0.15,
          0.7,
          0.78,
          0.61,
          0.25,
          0.62,
          0.53,
          0.55,
          7.89,
          12.51,
          0.87,
          0.4,
          0.44,
          0.13,
          0.42,
          0.37,
          2.46,
          0.62,
          1.16,
          1.61,
          1.94,
          9.11,
          0.23,
          0.57,
          0.18,
          1.12,
          0.53,
          0.77,
          0.28,
          0.63,
          0.43,
          0.8,
          0,
          0.08,
          0.12,
          0.78,
          0.24,
          1.46,
          0.87,
          0.67,
          0.74,
          0.02,
          0.1,
          0.59,
          1.5,
          2.15,
          0.13,
          0.19,
          0.45,
          0.19,
          0.34,
          0.25,
          0.12,
          0.2,
          0.24,
          0.12,
          0.76,
          0.68,
          0.06,
          0.36,
          0.65,
          1.11,
          0.41
         ],
         "xaxis": "x",
         "y": [
          1.14,
          0.7,
          0.45,
          0.83,
          0.95,
          0.71,
          1.51,
          0.83,
          1.29,
          0.46,
          0.89,
          1.1,
          0.86,
          1.39,
          1.1,
          0.21,
          0.84,
          0.88,
          0.83,
          1.26,
          1.56,
          0.73,
          1.47,
          1.63,
          1.2,
          0.71,
          0.91,
          1.4,
          0.79,
          1.21,
          1.15,
          0.79,
          1.02,
          1.05,
          0.85,
          0.74,
          1.09,
          1.03,
          0.91,
          1.21,
          1.08,
          0.52,
          0.15,
          0.42,
          1.04,
          0.79,
          1.18,
          0.58,
          1.01,
          1.04,
          1.12,
          0.84,
          0.8,
          0.78,
          0.9,
          0.85,
          1.13,
          1.2,
          0.58,
          0.98,
          0.86,
          1.2,
          0.85,
          0.97,
          1.03,
          0.77,
          0.94,
          1.08,
          0.93,
          1.15,
          0.71,
          1.02,
          1.08,
          0.83,
          0.86,
          0.76,
          1.04,
          0.67,
          1.01,
          1.08,
          0.65,
          1.25,
          1.35,
          0.78,
          0.74,
          1.07,
          0.92,
          1.13,
          0.93,
          0.87,
          0.63,
          0.43,
          1.01,
          0.97,
          1.61,
          1.78,
          0.79,
          1.29,
          1.2,
          0.35,
          0.6,
          0.58,
          1.49,
          1.09,
          1.07,
          1.3,
          1.17,
          0.71,
          1.06,
          1.17,
          1.51,
          0.71,
          0.56,
          0.57,
          1.11,
          0.97,
          0.64,
          0.82,
          0.79,
          0.24,
          0.44,
          0.73,
          1.21,
          0.77,
          0.87,
          0.9,
          0.98,
          0.36,
          0.88,
          1.09,
          0.91,
          0.73,
          0.82,
          0.7,
          0.8,
          1.46,
          0.95,
          0.71,
          0.8,
          1.38,
          0.85,
          1.12,
          0.95,
          0.98,
          0.84,
          1.01,
          1.27,
          0.99,
          1.13,
          0.84,
          1.37,
          1.05,
          0.97,
          0.39,
          0.93,
          0.91,
          0.49,
          1.23,
          0.72,
          1.07,
          1.28,
          1.04,
          0.45,
          1.17,
          0.89,
          1.05,
          0.59,
          0.62,
          0.74,
          1.37,
          0.89,
          0.77,
          0.7,
          1.12,
          1.37,
          1.17,
          0.81,
          0.21,
          0.92,
          0.72,
          0.72,
          1.04,
          0.6,
          0.88,
          1,
          0.65,
          0.6,
          1.1,
          0.61,
          1.41,
          1.3,
          1.31,
          0.98,
          1.02,
          1.14,
          1.55,
          0.9,
          0.88,
          0.99,
          0.86,
          1.18,
          0.84,
          0.97,
          0.87,
          1.21,
          0.99,
          0.99,
          1.54,
          1.12,
          1.28,
          1.07,
          1,
          0.01,
          0.74,
          0.89,
          1.26,
          0.81,
          0.29,
          0.76,
          0.88,
          0.79,
          1.01,
          1.3,
          0.74,
          0.92,
          0.31,
          0.72,
          1.46,
          1.16,
          1.01,
          1.35,
          1.5,
          1.37,
          0.87,
          0.54,
          0.69,
          0.85,
          0.93,
          0.82,
          0.85,
          0.44,
          0.49,
          0.33,
          0.93,
          0.61,
          1.45,
          1.01,
          1.29,
          0.73,
          0.79,
          0.92,
          1.2,
          0.9,
          1.03,
          0.45,
          1.09,
          0.98,
          1.18,
          0.99,
          0.81,
          0.5,
          0.33,
          0.66,
          1.16,
          1.05,
          0.96,
          1.1,
          1.21,
          0.75,
          0.61,
          0.88,
          1.09,
          0.51,
          1.79,
          1.52,
          1.1,
          0.95,
          0.74,
          0.88,
          0.62,
          1.33,
          1.23,
          1.07,
          0.32,
          0.86,
          1.07,
          0.33,
          1.14,
          1.18,
          1.59,
          1.08,
          1.04,
          0.86,
          0.88,
          0.82,
          1.2,
          0.23,
          1.12,
          0.34,
          1.05,
          1.05,
          0.89,
          0.72,
          1.27,
          0.77,
          1.22,
          0.98,
          1.17,
          0.67,
          1.44,
          1.86,
          1.85,
          1.37,
          1.26,
          1.7,
          1.82,
          1.9,
          0.99,
          1.01,
          0.7,
          1.14,
          1.62,
          0.83,
          0.92,
          0.98,
          1.51,
          1.32,
          0.77,
          1.1,
          1.44,
          1.18,
          0.98,
          1.58,
          1.47,
          1.3,
          1.06,
          0.95,
          0.68,
          1.45,
          0.72,
          0.64,
          1.27,
          1.65,
          1.7,
          1.06,
          1.08,
          1.15,
          1.38,
          0.69,
          1.35,
          0.98,
          0.64,
          0.76,
          1.38,
          1.48,
          1.18,
          0.93,
          0.96,
          0.85,
          1.03,
          0.98,
          0.89,
          1.06,
          0.81,
          1.08,
          1.01,
          0.92,
          1.58,
          0.78,
          1.44,
          1.13,
          0.92,
          0.85,
          0.39,
          1.03,
          0.8,
          1.17,
          0.74,
          0.97,
          1.49,
          0.91,
          0.94,
          1.47,
          1.19,
          1.19,
          0.49,
          1.2,
          1.01,
          0.86,
          1.14,
          0.75,
          0.66,
          1.31,
          1.05,
          0.68,
          0.65,
          0.92,
          0.57,
          0.96,
          0.07,
          0.9,
          0.72,
          0.26,
          0.63,
          1.06,
          0.74,
          1.2,
          0.47,
          0.58,
          0.36,
          0.94,
          0.78,
          0.9,
          0.96,
          0.7,
          0.76,
          1,
          1.02,
          1.18,
          0.9,
          0.86,
          0.97,
          0.61,
          0.19,
          0.78,
          0.78,
          0.78,
          1.12,
          0.32,
          0.97,
          0.78,
          0.59,
          0.74,
          1.04,
          0.84,
          1.14
         ],
         "yaxis": "y"
        }
       ],
       "layout": {
        "legend": {
         "tracegroupgap": 0
        },
        "template": {
         "data": {
          "bar": [
           {
            "error_x": {
             "color": "#2a3f5f"
            },
            "error_y": {
             "color": "#2a3f5f"
            },
            "marker": {
             "line": {
              "color": "white",
              "width": 0.5
             }
            },
            "type": "bar"
           }
          ],
          "barpolar": [
           {
            "marker": {
             "line": {
              "color": "white",
              "width": 0.5
             }
            },
            "type": "barpolar"
           }
          ],
          "carpet": [
           {
            "aaxis": {
             "endlinecolor": "#2a3f5f",
             "gridcolor": "#C8D4E3",
             "linecolor": "#C8D4E3",
             "minorgridcolor": "#C8D4E3",
             "startlinecolor": "#2a3f5f"
            },
            "baxis": {
             "endlinecolor": "#2a3f5f",
             "gridcolor": "#C8D4E3",
             "linecolor": "#C8D4E3",
             "minorgridcolor": "#C8D4E3",
             "startlinecolor": "#2a3f5f"
            },
            "type": "carpet"
           }
          ],
          "choropleth": [
           {
            "colorbar": {
             "outlinewidth": 0,
             "ticks": ""
            },
            "type": "choropleth"
           }
          ],
          "contour": [
           {
            "colorbar": {
             "outlinewidth": 0,
             "ticks": ""
            },
            "colorscale": [
             [
              0,
              "#0d0887"
             ],
             [
              0.1111111111111111,
              "#46039f"
             ],
             [
              0.2222222222222222,
              "#7201a8"
             ],
             [
              0.3333333333333333,
              "#9c179e"
             ],
             [
              0.4444444444444444,
              "#bd3786"
             ],
             [
              0.5555555555555556,
              "#d8576b"
             ],
             [
              0.6666666666666666,
              "#ed7953"
             ],
             [
              0.7777777777777778,
              "#fb9f3a"
             ],
             [
              0.8888888888888888,
              "#fdca26"
             ],
             [
              1,
              "#f0f921"
             ]
            ],
            "type": "contour"
           }
          ],
          "contourcarpet": [
           {
            "colorbar": {
             "outlinewidth": 0,
             "ticks": ""
            },
            "type": "contourcarpet"
           }
          ],
          "heatmap": [
           {
            "colorbar": {
             "outlinewidth": 0,
             "ticks": ""
            },
            "colorscale": [
             [
              0,
              "#0d0887"
             ],
             [
              0.1111111111111111,
              "#46039f"
             ],
             [
              0.2222222222222222,
              "#7201a8"
             ],
             [
              0.3333333333333333,
              "#9c179e"
             ],
             [
              0.4444444444444444,
              "#bd3786"
             ],
             [
              0.5555555555555556,
              "#d8576b"
             ],
             [
              0.6666666666666666,
              "#ed7953"
             ],
             [
              0.7777777777777778,
              "#fb9f3a"
             ],
             [
              0.8888888888888888,
              "#fdca26"
             ],
             [
              1,
              "#f0f921"
             ]
            ],
            "type": "heatmap"
           }
          ],
          "heatmapgl": [
           {
            "colorbar": {
             "outlinewidth": 0,
             "ticks": ""
            },
            "colorscale": [
             [
              0,
              "#0d0887"
             ],
             [
              0.1111111111111111,
              "#46039f"
             ],
             [
              0.2222222222222222,
              "#7201a8"
             ],
             [
              0.3333333333333333,
              "#9c179e"
             ],
             [
              0.4444444444444444,
              "#bd3786"
             ],
             [
              0.5555555555555556,
              "#d8576b"
             ],
             [
              0.6666666666666666,
              "#ed7953"
             ],
             [
              0.7777777777777778,
              "#fb9f3a"
             ],
             [
              0.8888888888888888,
              "#fdca26"
             ],
             [
              1,
              "#f0f921"
             ]
            ],
            "type": "heatmapgl"
           }
          ],
          "histogram": [
           {
            "marker": {
             "colorbar": {
              "outlinewidth": 0,
              "ticks": ""
             }
            },
            "type": "histogram"
           }
          ],
          "histogram2d": [
           {
            "colorbar": {
             "outlinewidth": 0,
             "ticks": ""
            },
            "colorscale": [
             [
              0,
              "#0d0887"
             ],
             [
              0.1111111111111111,
              "#46039f"
             ],
             [
              0.2222222222222222,
              "#7201a8"
             ],
             [
              0.3333333333333333,
              "#9c179e"
             ],
             [
              0.4444444444444444,
              "#bd3786"
             ],
             [
              0.5555555555555556,
              "#d8576b"
             ],
             [
              0.6666666666666666,
              "#ed7953"
             ],
             [
              0.7777777777777778,
              "#fb9f3a"
             ],
             [
              0.8888888888888888,
              "#fdca26"
             ],
             [
              1,
              "#f0f921"
             ]
            ],
            "type": "histogram2d"
           }
          ],
          "histogram2dcontour": [
           {
            "colorbar": {
             "outlinewidth": 0,
             "ticks": ""
            },
            "colorscale": [
             [
              0,
              "#0d0887"
             ],
             [
              0.1111111111111111,
              "#46039f"
             ],
             [
              0.2222222222222222,
              "#7201a8"
             ],
             [
              0.3333333333333333,
              "#9c179e"
             ],
             [
              0.4444444444444444,
              "#bd3786"
             ],
             [
              0.5555555555555556,
              "#d8576b"
             ],
             [
              0.6666666666666666,
              "#ed7953"
             ],
             [
              0.7777777777777778,
              "#fb9f3a"
             ],
             [
              0.8888888888888888,
              "#fdca26"
             ],
             [
              1,
              "#f0f921"
             ]
            ],
            "type": "histogram2dcontour"
           }
          ],
          "mesh3d": [
           {
            "colorbar": {
             "outlinewidth": 0,
             "ticks": ""
            },
            "type": "mesh3d"
           }
          ],
          "parcoords": [
           {
            "line": {
             "colorbar": {
              "outlinewidth": 0,
              "ticks": ""
             }
            },
            "type": "parcoords"
           }
          ],
          "pie": [
           {
            "automargin": true,
            "type": "pie"
           }
          ],
          "scatter": [
           {
            "marker": {
             "colorbar": {
              "outlinewidth": 0,
              "ticks": ""
             }
            },
            "type": "scatter"
           }
          ],
          "scatter3d": [
           {
            "line": {
             "colorbar": {
              "outlinewidth": 0,
              "ticks": ""
             }
            },
            "marker": {
             "colorbar": {
              "outlinewidth": 0,
              "ticks": ""
             }
            },
            "type": "scatter3d"
           }
          ],
          "scattercarpet": [
           {
            "marker": {
             "colorbar": {
              "outlinewidth": 0,
              "ticks": ""
             }
            },
            "type": "scattercarpet"
           }
          ],
          "scattergeo": [
           {
            "marker": {
             "colorbar": {
              "outlinewidth": 0,
              "ticks": ""
             }
            },
            "type": "scattergeo"
           }
          ],
          "scattergl": [
           {
            "marker": {
             "colorbar": {
              "outlinewidth": 0,
              "ticks": ""
             }
            },
            "type": "scattergl"
           }
          ],
          "scattermapbox": [
           {
            "marker": {
             "colorbar": {
              "outlinewidth": 0,
              "ticks": ""
             }
            },
            "type": "scattermapbox"
           }
          ],
          "scatterpolar": [
           {
            "marker": {
             "colorbar": {
              "outlinewidth": 0,
              "ticks": ""
             }
            },
            "type": "scatterpolar"
           }
          ],
          "scatterpolargl": [
           {
            "marker": {
             "colorbar": {
              "outlinewidth": 0,
              "ticks": ""
             }
            },
            "type": "scatterpolargl"
           }
          ],
          "scatterternary": [
           {
            "marker": {
             "colorbar": {
              "outlinewidth": 0,
              "ticks": ""
             }
            },
            "type": "scatterternary"
           }
          ],
          "surface": [
           {
            "colorbar": {
             "outlinewidth": 0,
             "ticks": ""
            },
            "colorscale": [
             [
              0,
              "#0d0887"
             ],
             [
              0.1111111111111111,
              "#46039f"
             ],
             [
              0.2222222222222222,
              "#7201a8"
             ],
             [
              0.3333333333333333,
              "#9c179e"
             ],
             [
              0.4444444444444444,
              "#bd3786"
             ],
             [
              0.5555555555555556,
              "#d8576b"
             ],
             [
              0.6666666666666666,
              "#ed7953"
             ],
             [
              0.7777777777777778,
              "#fb9f3a"
             ],
             [
              0.8888888888888888,
              "#fdca26"
             ],
             [
              1,
              "#f0f921"
             ]
            ],
            "type": "surface"
           }
          ],
          "table": [
           {
            "cells": {
             "fill": {
              "color": "#EBF0F8"
             },
             "line": {
              "color": "white"
             }
            },
            "header": {
             "fill": {
              "color": "#C8D4E3"
             },
             "line": {
              "color": "white"
             }
            },
            "type": "table"
           }
          ]
         },
         "layout": {
          "annotationdefaults": {
           "arrowcolor": "#2a3f5f",
           "arrowhead": 0,
           "arrowwidth": 1
          },
          "coloraxis": {
           "colorbar": {
            "outlinewidth": 0,
            "ticks": ""
           }
          },
          "colorscale": {
           "diverging": [
            [
             0,
             "#8e0152"
            ],
            [
             0.1,
             "#c51b7d"
            ],
            [
             0.2,
             "#de77ae"
            ],
            [
             0.3,
             "#f1b6da"
            ],
            [
             0.4,
             "#fde0ef"
            ],
            [
             0.5,
             "#f7f7f7"
            ],
            [
             0.6,
             "#e6f5d0"
            ],
            [
             0.7,
             "#b8e186"
            ],
            [
             0.8,
             "#7fbc41"
            ],
            [
             0.9,
             "#4d9221"
            ],
            [
             1,
             "#276419"
            ]
           ],
           "sequential": [
            [
             0,
             "#0d0887"
            ],
            [
             0.1111111111111111,
             "#46039f"
            ],
            [
             0.2222222222222222,
             "#7201a8"
            ],
            [
             0.3333333333333333,
             "#9c179e"
            ],
            [
             0.4444444444444444,
             "#bd3786"
            ],
            [
             0.5555555555555556,
             "#d8576b"
            ],
            [
             0.6666666666666666,
             "#ed7953"
            ],
            [
             0.7777777777777778,
             "#fb9f3a"
            ],
            [
             0.8888888888888888,
             "#fdca26"
            ],
            [
             1,
             "#f0f921"
            ]
           ],
           "sequentialminus": [
            [
             0,
             "#0d0887"
            ],
            [
             0.1111111111111111,
             "#46039f"
            ],
            [
             0.2222222222222222,
             "#7201a8"
            ],
            [
             0.3333333333333333,
             "#9c179e"
            ],
            [
             0.4444444444444444,
             "#bd3786"
            ],
            [
             0.5555555555555556,
             "#d8576b"
            ],
            [
             0.6666666666666666,
             "#ed7953"
            ],
            [
             0.7777777777777778,
             "#fb9f3a"
            ],
            [
             0.8888888888888888,
             "#fdca26"
            ],
            [
             1,
             "#f0f921"
            ]
           ]
          },
          "colorway": [
           "#636efa",
           "#EF553B",
           "#00cc96",
           "#ab63fa",
           "#FFA15A",
           "#19d3f3",
           "#FF6692",
           "#B6E880",
           "#FF97FF",
           "#FECB52"
          ],
          "font": {
           "color": "#2a3f5f"
          },
          "geo": {
           "bgcolor": "white",
           "lakecolor": "white",
           "landcolor": "white",
           "showlakes": true,
           "showland": true,
           "subunitcolor": "#C8D4E3"
          },
          "hoverlabel": {
           "align": "left"
          },
          "hovermode": "closest",
          "mapbox": {
           "style": "light"
          },
          "paper_bgcolor": "white",
          "plot_bgcolor": "white",
          "polar": {
           "angularaxis": {
            "gridcolor": "#EBF0F8",
            "linecolor": "#EBF0F8",
            "ticks": ""
           },
           "bgcolor": "white",
           "radialaxis": {
            "gridcolor": "#EBF0F8",
            "linecolor": "#EBF0F8",
            "ticks": ""
           }
          },
          "scene": {
           "xaxis": {
            "backgroundcolor": "white",
            "gridcolor": "#DFE8F3",
            "gridwidth": 2,
            "linecolor": "#EBF0F8",
            "showbackground": true,
            "ticks": "",
            "zerolinecolor": "#EBF0F8"
           },
           "yaxis": {
            "backgroundcolor": "white",
            "gridcolor": "#DFE8F3",
            "gridwidth": 2,
            "linecolor": "#EBF0F8",
            "showbackground": true,
            "ticks": "",
            "zerolinecolor": "#EBF0F8"
           },
           "zaxis": {
            "backgroundcolor": "white",
            "gridcolor": "#DFE8F3",
            "gridwidth": 2,
            "linecolor": "#EBF0F8",
            "showbackground": true,
            "ticks": "",
            "zerolinecolor": "#EBF0F8"
           }
          },
          "shapedefaults": {
           "line": {
            "color": "#2a3f5f"
           }
          },
          "ternary": {
           "aaxis": {
            "gridcolor": "#DFE8F3",
            "linecolor": "#A2B1C6",
            "ticks": ""
           },
           "baxis": {
            "gridcolor": "#DFE8F3",
            "linecolor": "#A2B1C6",
            "ticks": ""
           },
           "bgcolor": "white",
           "caxis": {
            "gridcolor": "#DFE8F3",
            "linecolor": "#A2B1C6",
            "ticks": ""
           }
          },
          "title": {
           "x": 0.05
          },
          "xaxis": {
           "automargin": true,
           "gridcolor": "#EBF0F8",
           "linecolor": "#EBF0F8",
           "ticks": "",
           "title": {
            "standoff": 15
           },
           "zerolinecolor": "#EBF0F8",
           "zerolinewidth": 2
          },
          "yaxis": {
           "automargin": true,
           "gridcolor": "#EBF0F8",
           "linecolor": "#EBF0F8",
           "ticks": "",
           "title": {
            "standoff": 15
           },
           "zerolinecolor": "#EBF0F8",
           "zerolinewidth": 2
          }
         }
        },
        "title": {
         "text": "Logged Value Ratio"
        },
        "xaxis": {
         "anchor": "y",
         "domain": [
          0,
          1
         ],
         "title": {
          "text": "Value-to-Cost Ratio"
         },
         "type": "log"
        },
        "yaxis": {
         "anchor": "x",
         "domain": [
          0,
          1
         ],
         "title": {
          "text": "Vulnerability Score"
         }
        }
       }
      }
     },
     "metadata": {}
    }
   ],
   "source": [
    "p2 = px.scatter(galloway, x='Value-to-Cost Ratio', y='Vulnerability Score', opacity=0.5, template='plotly_white', hover_data=['Institution Name'], title='Logged Value Ratio')\n",
    "p2.update_layout(xaxis_type='log')\n",
    "p2.show()"
   ]
  },
  {
   "cell_type": "code",
   "execution_count": null,
   "metadata": {},
   "outputs": [],
   "source": []
  }
 ]
}